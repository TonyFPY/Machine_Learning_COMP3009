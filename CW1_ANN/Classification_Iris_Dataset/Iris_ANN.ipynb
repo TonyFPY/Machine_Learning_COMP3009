{
  "nbformat": 4,
  "nbformat_minor": 0,
  "metadata": {
    "colab": {
      "name": "Iris_ANN.ipynb",
      "provenance": [],
      "collapsed_sections": []
    },
    "kernelspec": {
      "name": "python3",
      "display_name": "Python 3"
    }
  },
  "cells": [
    {
      "cell_type": "code",
      "metadata": {
        "id": "e_CWK02cusTb",
        "outputId": "62e79711-9d35-42f8-d575-ab1eee1bf7d8",
        "colab": {
          "base_uri": "https://localhost:8080/"
        }
      },
      "source": [
        "import os\n",
        "from google.colab import drive\n",
        "drive.mount('/content/drive', force_remount=True)"
      ],
      "execution_count": null,
      "outputs": [
        {
          "output_type": "stream",
          "text": [
            "Mounted at /content/drive\n"
          ],
          "name": "stdout"
        }
      ]
    },
    {
      "cell_type": "code",
      "metadata": {
        "id": "6D9I-xaPwv7h"
      },
      "source": [
        "import numpy as np\n",
        "import pickle\n",
        "import matplotlib.pyplot as plt\n",
        "import warnings\n",
        "import pandas as pd\n",
        "\n",
        "warnings.filterwarnings(\"ignore\")\n",
        "%matplotlib inline\n",
        "%tensorflow_version 1.x"
      ],
      "execution_count": null,
      "outputs": []
    },
    {
      "cell_type": "code",
      "metadata": {
        "id": "wzNsQDo3xlE1",
        "outputId": "669780af-e05c-42d6-a8ea-7173a763f7c5",
        "colab": {
          "base_uri": "https://localhost:8080/"
        }
      },
      "source": [
        "import tensorflow as tf\n",
        "print(tf.__version__)"
      ],
      "execution_count": null,
      "outputs": [
        {
          "output_type": "stream",
          "text": [
            "1.15.2\n"
          ],
          "name": "stdout"
        }
      ]
    },
    {
      "cell_type": "code",
      "metadata": {
        "id": "qgIHzrAANrSx"
      },
      "source": [
        "#Function Definition\n",
        "def add_layer(inputs, in_size, out_size, activation_function=None):\n",
        "  Weights = tf.Variable(tf.random_normal([in_size, out_size])) #in_size - rows  out_size - columns\n",
        "  biases = tf.Variable(tf.zeros([1, out_size]) + 0.1) #one row\n",
        "  Wx_plus_b = tf.matmul(inputs, Weights) + biases\n",
        "  if activation_function is None:\n",
        "    outputs = Wx_plus_b\n",
        "  else:\n",
        "    outputs = activation_function(Wx_plus_b)\n",
        "  return outputs"
      ],
      "execution_count": null,
      "outputs": []
    },
    {
      "cell_type": "code",
      "metadata": {
        "id": "ndMkQIvn6Qo7",
        "outputId": "297accef-99b4-4154-a02f-f87375fd64cb",
        "colab": {
          "base_uri": "https://localhost:8080/",
          "height": 419
        }
      },
      "source": [
        "# 1、Load Data and Do Preprocessing\n",
        "dataset = pd.read_csv('/content/drive/My Drive/Colab Notebooks/Machine Learning/Iris_Dataset.csv')\n",
        "dataset"
      ],
      "execution_count": null,
      "outputs": [
        {
          "output_type": "execute_result",
          "data": {
            "text/html": [
              "<div>\n",
              "<style scoped>\n",
              "    .dataframe tbody tr th:only-of-type {\n",
              "        vertical-align: middle;\n",
              "    }\n",
              "\n",
              "    .dataframe tbody tr th {\n",
              "        vertical-align: top;\n",
              "    }\n",
              "\n",
              "    .dataframe thead th {\n",
              "        text-align: right;\n",
              "    }\n",
              "</style>\n",
              "<table border=\"1\" class=\"dataframe\">\n",
              "  <thead>\n",
              "    <tr style=\"text-align: right;\">\n",
              "      <th></th>\n",
              "      <th>Id</th>\n",
              "      <th>SepalLengthCm</th>\n",
              "      <th>SepalWidthCm</th>\n",
              "      <th>PetalLengthCm</th>\n",
              "      <th>PetalWidthCm</th>\n",
              "      <th>Species</th>\n",
              "    </tr>\n",
              "  </thead>\n",
              "  <tbody>\n",
              "    <tr>\n",
              "      <th>0</th>\n",
              "      <td>1</td>\n",
              "      <td>5.1</td>\n",
              "      <td>3.5</td>\n",
              "      <td>1.4</td>\n",
              "      <td>0.2</td>\n",
              "      <td>Iris-setosa</td>\n",
              "    </tr>\n",
              "    <tr>\n",
              "      <th>1</th>\n",
              "      <td>2</td>\n",
              "      <td>4.9</td>\n",
              "      <td>3.0</td>\n",
              "      <td>1.4</td>\n",
              "      <td>0.2</td>\n",
              "      <td>Iris-setosa</td>\n",
              "    </tr>\n",
              "    <tr>\n",
              "      <th>2</th>\n",
              "      <td>3</td>\n",
              "      <td>4.7</td>\n",
              "      <td>3.2</td>\n",
              "      <td>1.3</td>\n",
              "      <td>0.2</td>\n",
              "      <td>Iris-setosa</td>\n",
              "    </tr>\n",
              "    <tr>\n",
              "      <th>3</th>\n",
              "      <td>4</td>\n",
              "      <td>4.6</td>\n",
              "      <td>3.1</td>\n",
              "      <td>1.5</td>\n",
              "      <td>0.2</td>\n",
              "      <td>Iris-setosa</td>\n",
              "    </tr>\n",
              "    <tr>\n",
              "      <th>4</th>\n",
              "      <td>5</td>\n",
              "      <td>5.0</td>\n",
              "      <td>3.6</td>\n",
              "      <td>1.4</td>\n",
              "      <td>0.2</td>\n",
              "      <td>Iris-setosa</td>\n",
              "    </tr>\n",
              "    <tr>\n",
              "      <th>...</th>\n",
              "      <td>...</td>\n",
              "      <td>...</td>\n",
              "      <td>...</td>\n",
              "      <td>...</td>\n",
              "      <td>...</td>\n",
              "      <td>...</td>\n",
              "    </tr>\n",
              "    <tr>\n",
              "      <th>145</th>\n",
              "      <td>146</td>\n",
              "      <td>6.7</td>\n",
              "      <td>3.0</td>\n",
              "      <td>5.2</td>\n",
              "      <td>2.3</td>\n",
              "      <td>Iris-virginica</td>\n",
              "    </tr>\n",
              "    <tr>\n",
              "      <th>146</th>\n",
              "      <td>147</td>\n",
              "      <td>6.3</td>\n",
              "      <td>2.5</td>\n",
              "      <td>5.0</td>\n",
              "      <td>1.9</td>\n",
              "      <td>Iris-virginica</td>\n",
              "    </tr>\n",
              "    <tr>\n",
              "      <th>147</th>\n",
              "      <td>148</td>\n",
              "      <td>6.5</td>\n",
              "      <td>3.0</td>\n",
              "      <td>5.2</td>\n",
              "      <td>2.0</td>\n",
              "      <td>Iris-virginica</td>\n",
              "    </tr>\n",
              "    <tr>\n",
              "      <th>148</th>\n",
              "      <td>149</td>\n",
              "      <td>6.2</td>\n",
              "      <td>3.4</td>\n",
              "      <td>5.4</td>\n",
              "      <td>2.3</td>\n",
              "      <td>Iris-virginica</td>\n",
              "    </tr>\n",
              "    <tr>\n",
              "      <th>149</th>\n",
              "      <td>150</td>\n",
              "      <td>5.9</td>\n",
              "      <td>3.0</td>\n",
              "      <td>5.1</td>\n",
              "      <td>1.8</td>\n",
              "      <td>Iris-virginica</td>\n",
              "    </tr>\n",
              "  </tbody>\n",
              "</table>\n",
              "<p>150 rows × 6 columns</p>\n",
              "</div>"
            ],
            "text/plain": [
              "      Id  SepalLengthCm  ...  PetalWidthCm         Species\n",
              "0      1            5.1  ...           0.2     Iris-setosa\n",
              "1      2            4.9  ...           0.2     Iris-setosa\n",
              "2      3            4.7  ...           0.2     Iris-setosa\n",
              "3      4            4.6  ...           0.2     Iris-setosa\n",
              "4      5            5.0  ...           0.2     Iris-setosa\n",
              "..   ...            ...  ...           ...             ...\n",
              "145  146            6.7  ...           2.3  Iris-virginica\n",
              "146  147            6.3  ...           1.9  Iris-virginica\n",
              "147  148            6.5  ...           2.0  Iris-virginica\n",
              "148  149            6.2  ...           2.3  Iris-virginica\n",
              "149  150            5.9  ...           1.8  Iris-virginica\n",
              "\n",
              "[150 rows x 6 columns]"
            ]
          },
          "metadata": {
            "tags": []
          },
          "execution_count": 689
        }
      ]
    },
    {
      "cell_type": "code",
      "metadata": {
        "id": "s_xyIMH5dMNu",
        "outputId": "36903cfa-fee8-4be4-c5a4-9dbc6005f4e4",
        "colab": {
          "base_uri": "https://localhost:8080/",
          "height": 436
        }
      },
      "source": [
        "dataset = pd.get_dummies(dataset, columns=['Species']) # One Hot Encoding\n",
        "dataset"
      ],
      "execution_count": null,
      "outputs": [
        {
          "output_type": "execute_result",
          "data": {
            "text/html": [
              "<div>\n",
              "<style scoped>\n",
              "    .dataframe tbody tr th:only-of-type {\n",
              "        vertical-align: middle;\n",
              "    }\n",
              "\n",
              "    .dataframe tbody tr th {\n",
              "        vertical-align: top;\n",
              "    }\n",
              "\n",
              "    .dataframe thead th {\n",
              "        text-align: right;\n",
              "    }\n",
              "</style>\n",
              "<table border=\"1\" class=\"dataframe\">\n",
              "  <thead>\n",
              "    <tr style=\"text-align: right;\">\n",
              "      <th></th>\n",
              "      <th>Id</th>\n",
              "      <th>SepalLengthCm</th>\n",
              "      <th>SepalWidthCm</th>\n",
              "      <th>PetalLengthCm</th>\n",
              "      <th>PetalWidthCm</th>\n",
              "      <th>Species_Iris-setosa</th>\n",
              "      <th>Species_Iris-versicolor</th>\n",
              "      <th>Species_Iris-virginica</th>\n",
              "    </tr>\n",
              "  </thead>\n",
              "  <tbody>\n",
              "    <tr>\n",
              "      <th>0</th>\n",
              "      <td>1</td>\n",
              "      <td>5.1</td>\n",
              "      <td>3.5</td>\n",
              "      <td>1.4</td>\n",
              "      <td>0.2</td>\n",
              "      <td>1</td>\n",
              "      <td>0</td>\n",
              "      <td>0</td>\n",
              "    </tr>\n",
              "    <tr>\n",
              "      <th>1</th>\n",
              "      <td>2</td>\n",
              "      <td>4.9</td>\n",
              "      <td>3.0</td>\n",
              "      <td>1.4</td>\n",
              "      <td>0.2</td>\n",
              "      <td>1</td>\n",
              "      <td>0</td>\n",
              "      <td>0</td>\n",
              "    </tr>\n",
              "    <tr>\n",
              "      <th>2</th>\n",
              "      <td>3</td>\n",
              "      <td>4.7</td>\n",
              "      <td>3.2</td>\n",
              "      <td>1.3</td>\n",
              "      <td>0.2</td>\n",
              "      <td>1</td>\n",
              "      <td>0</td>\n",
              "      <td>0</td>\n",
              "    </tr>\n",
              "    <tr>\n",
              "      <th>3</th>\n",
              "      <td>4</td>\n",
              "      <td>4.6</td>\n",
              "      <td>3.1</td>\n",
              "      <td>1.5</td>\n",
              "      <td>0.2</td>\n",
              "      <td>1</td>\n",
              "      <td>0</td>\n",
              "      <td>0</td>\n",
              "    </tr>\n",
              "    <tr>\n",
              "      <th>4</th>\n",
              "      <td>5</td>\n",
              "      <td>5.0</td>\n",
              "      <td>3.6</td>\n",
              "      <td>1.4</td>\n",
              "      <td>0.2</td>\n",
              "      <td>1</td>\n",
              "      <td>0</td>\n",
              "      <td>0</td>\n",
              "    </tr>\n",
              "    <tr>\n",
              "      <th>...</th>\n",
              "      <td>...</td>\n",
              "      <td>...</td>\n",
              "      <td>...</td>\n",
              "      <td>...</td>\n",
              "      <td>...</td>\n",
              "      <td>...</td>\n",
              "      <td>...</td>\n",
              "      <td>...</td>\n",
              "    </tr>\n",
              "    <tr>\n",
              "      <th>145</th>\n",
              "      <td>146</td>\n",
              "      <td>6.7</td>\n",
              "      <td>3.0</td>\n",
              "      <td>5.2</td>\n",
              "      <td>2.3</td>\n",
              "      <td>0</td>\n",
              "      <td>0</td>\n",
              "      <td>1</td>\n",
              "    </tr>\n",
              "    <tr>\n",
              "      <th>146</th>\n",
              "      <td>147</td>\n",
              "      <td>6.3</td>\n",
              "      <td>2.5</td>\n",
              "      <td>5.0</td>\n",
              "      <td>1.9</td>\n",
              "      <td>0</td>\n",
              "      <td>0</td>\n",
              "      <td>1</td>\n",
              "    </tr>\n",
              "    <tr>\n",
              "      <th>147</th>\n",
              "      <td>148</td>\n",
              "      <td>6.5</td>\n",
              "      <td>3.0</td>\n",
              "      <td>5.2</td>\n",
              "      <td>2.0</td>\n",
              "      <td>0</td>\n",
              "      <td>0</td>\n",
              "      <td>1</td>\n",
              "    </tr>\n",
              "    <tr>\n",
              "      <th>148</th>\n",
              "      <td>149</td>\n",
              "      <td>6.2</td>\n",
              "      <td>3.4</td>\n",
              "      <td>5.4</td>\n",
              "      <td>2.3</td>\n",
              "      <td>0</td>\n",
              "      <td>0</td>\n",
              "      <td>1</td>\n",
              "    </tr>\n",
              "    <tr>\n",
              "      <th>149</th>\n",
              "      <td>150</td>\n",
              "      <td>5.9</td>\n",
              "      <td>3.0</td>\n",
              "      <td>5.1</td>\n",
              "      <td>1.8</td>\n",
              "      <td>0</td>\n",
              "      <td>0</td>\n",
              "      <td>1</td>\n",
              "    </tr>\n",
              "  </tbody>\n",
              "</table>\n",
              "<p>150 rows × 8 columns</p>\n",
              "</div>"
            ],
            "text/plain": [
              "      Id  SepalLengthCm  ...  Species_Iris-versicolor  Species_Iris-virginica\n",
              "0      1            5.1  ...                        0                       0\n",
              "1      2            4.9  ...                        0                       0\n",
              "2      3            4.7  ...                        0                       0\n",
              "3      4            4.6  ...                        0                       0\n",
              "4      5            5.0  ...                        0                       0\n",
              "..   ...            ...  ...                      ...                     ...\n",
              "145  146            6.7  ...                        0                       1\n",
              "146  147            6.3  ...                        0                       1\n",
              "147  148            6.5  ...                        0                       1\n",
              "148  149            6.2  ...                        0                       1\n",
              "149  150            5.9  ...                        0                       1\n",
              "\n",
              "[150 rows x 8 columns]"
            ]
          },
          "metadata": {
            "tags": []
          },
          "execution_count": 690
        }
      ]
    },
    {
      "cell_type": "code",
      "metadata": {
        "id": "XjC4S8G6enau"
      },
      "source": [
        "values = list(dataset.columns.values) # Get the column names into a list\n",
        "\n",
        "y = dataset[values[-3:]]\n",
        "y = np.array(y, dtype='float32') # Get labels\n",
        "\n",
        "X = dataset[values[1:-3]]\n",
        "X = np.array(X, dtype='float32') # Get features"
      ],
      "execution_count": null,
      "outputs": []
    },
    {
      "cell_type": "code",
      "metadata": {
        "id": "6NuK8ax9hfZk"
      },
      "source": [
        "# Shuffle Data\n",
        "indices = np.random.choice(len(X), len(X), replace=False)\n",
        "X_values = X[indices]\n",
        "y_values = y[indices]"
      ],
      "execution_count": null,
      "outputs": []
    },
    {
      "cell_type": "code",
      "metadata": {
        "id": "5nDBBzXfiR5G"
      },
      "source": [
        "# Create A Training Set, A Validation Set And A Testing Set\n",
        "test_size = 30\n",
        "validation_size = 20\n",
        "\n",
        "X_train = X_values[: -(test_size + validation_size)]\n",
        "y_train = y_values[: -(test_size + validation_size)]\n",
        "\n",
        "X_validation = X_values[-(test_size + validation_size) : -test_size]\n",
        "y_validation = y_values[-(test_size + validation_size) : -test_size]\n",
        "\n",
        "X_test = X_values[-test_size:]\n",
        "y_test = y_values[-test_size:]"
      ],
      "execution_count": null,
      "outputs": []
    },
    {
      "cell_type": "code",
      "metadata": {
        "id": "I87pC7o_vfwx"
      },
      "source": [
        "# 2. Build Artificial Neural Network\n",
        "\n",
        "#Parameter Settings\n",
        "interval = 50\n",
        "epoch = 1000\n",
        "hidden_layer_nodes = 8\n",
        "\n",
        "# Initialize Input Layer (placeholders)\n",
        "xs = tf.placeholder(shape=[None, 4], dtype=tf.float32)\n",
        "ys = tf.placeholder(shape=[None, 3], dtype=tf.float32)\n",
        "\n",
        "# Create Hidden Layers\n",
        "l1 = add_layer(xs, 4, 8, activation_function=tf.nn.relu)\n",
        "\n",
        "# Create Output Layer\n",
        "prediction = add_layer(l1, 8, 3, activation_function=tf.nn.softmax)\n",
        "\n",
        "# Cost Function\n",
        "loss = tf.reduce_mean(-tf.reduce_sum(ys * tf.log(prediction + 1e-10), axis=0)) #1e-10 is used to avoid NaN\n",
        "\n",
        "# Optimizer & Train Step\n",
        "train_step = tf.train.GradientDescentOptimizer(0.001).minimize(loss)\n",
        "\n",
        "# Global Variables Initializer\n",
        "init = tf.global_variables_initializer()\n",
        "\n",
        "sess = tf.Session()\n",
        "sess.run(init)"
      ],
      "execution_count": null,
      "outputs": []
    },
    {
      "cell_type": "code",
      "metadata": {
        "id": "cBS4xRZIA6nR",
        "outputId": "e401f7de-bfc4-4161-9be1-d61a1dcaa7ef",
        "colab": {
          "base_uri": "https://localhost:8080/"
        }
      },
      "source": [
        "### Do Some Testing BEFORE Training The ANN ###\n",
        "sess.run(prediction, feed_dict={xs:X_test})\n",
        "pred = tf.argmax(prediction, axis=1)\n",
        "sess.run(pred, feed_dict={xs:X_test})"
      ],
      "execution_count": null,
      "outputs": [
        {
          "output_type": "execute_result",
          "data": {
            "text/plain": [
              "array([2, 2, 2, 2, 2, 2, 2, 2, 2, 2, 2, 2, 2, 2, 2, 2, 2, 2, 2, 2, 2, 2,\n",
              "       2, 2, 2, 2, 2, 2, 2, 2])"
            ]
          },
          "metadata": {
            "tags": []
          },
          "execution_count": 695
        }
      ]
    },
    {
      "cell_type": "code",
      "metadata": {
        "id": "d0Z0mfCmtGBP",
        "outputId": "1add6f76-9aa3-46f3-d633-5c99a935302e",
        "colab": {
          "base_uri": "https://localhost:8080/"
        }
      },
      "source": [
        "# 3. Train Artificial Neural Network\n",
        "for i in range(epoch+1):\n",
        "  # training\n",
        "  sess.run(train_step, feed_dict={xs:X_train, ys: y_train})\n",
        "  if i % interval == 0:\n",
        "    # to see the improvement\n",
        "    pred = tf.argmax(prediction, axis=1)\n",
        "    actual = tf.argmax(y_validation, axis=1)\n",
        "    correct = tf.cast(tf.equal(pred, actual), dtype=tf.int32)\n",
        "    correct = tf.reduce_sum(correct)\n",
        "    correctNum = sess.run(correct, feed_dict={xs:X_validation})\n",
        "    accuracy = float(correctNum) / float(validation_size)\n",
        "    print(\"Epoch %d, loss: %f, evaluation accuracy: %f.\" % (i, sess.run(loss, feed_dict={xs: X_train, ys: y_train}), accuracy))"
      ],
      "execution_count": null,
      "outputs": [
        {
          "output_type": "stream",
          "text": [
            "Epoch 0, loss: 272.406738, evaluation accuracy: 0.400000.\n",
            "Epoch 50, loss: 13.633919, evaluation accuracy: 0.900000.\n",
            "Epoch 100, loss: 8.869444, evaluation accuracy: 0.900000.\n",
            "Epoch 150, loss: 7.198456, evaluation accuracy: 0.900000.\n",
            "Epoch 200, loss: 6.236981, evaluation accuracy: 0.900000.\n",
            "Epoch 250, loss: 5.591774, evaluation accuracy: 0.900000.\n",
            "Epoch 300, loss: 5.126077, evaluation accuracy: 0.900000.\n",
            "Epoch 350, loss: 4.775121, evaluation accuracy: 0.900000.\n",
            "Epoch 400, loss: 4.502705, evaluation accuracy: 0.950000.\n",
            "Epoch 450, loss: 4.286177, evaluation accuracy: 0.950000.\n",
            "Epoch 500, loss: 4.110765, evaluation accuracy: 0.950000.\n",
            "Epoch 550, loss: 3.966145, evaluation accuracy: 0.950000.\n",
            "Epoch 600, loss: 3.844897, evaluation accuracy: 0.950000.\n",
            "Epoch 650, loss: 3.742175, evaluation accuracy: 0.950000.\n",
            "Epoch 700, loss: 3.653367, evaluation accuracy: 0.950000.\n",
            "Epoch 750, loss: 3.575594, evaluation accuracy: 0.950000.\n",
            "Epoch 800, loss: 3.506797, evaluation accuracy: 0.950000.\n",
            "Epoch 850, loss: 3.445538, evaluation accuracy: 1.000000.\n",
            "Epoch 900, loss: 3.390579, evaluation accuracy: 1.000000.\n",
            "Epoch 950, loss: 3.341041, evaluation accuracy: 1.000000.\n",
            "Epoch 1000, loss: 3.295980, evaluation accuracy: 1.000000.\n"
          ],
          "name": "stdout"
        }
      ]
    },
    {
      "cell_type": "code",
      "metadata": {
        "id": "Gc87JSks7P-N",
        "outputId": "e17f4f15-e2ba-4354-ae00-5604294d24ae",
        "colab": {
          "base_uri": "https://localhost:8080/"
        }
      },
      "source": [
        "# 4. Testing\n",
        "pred = tf.argmax(prediction, axis=1)\n",
        "actual = tf.argmax(y_test, axis=1)\n",
        "correct = tf.cast(tf.equal(pred, actual), dtype=tf.int32)\n",
        "correct = tf.reduce_sum(correct)\n",
        "correctNum = sess.run(correct, feed_dict={xs:X_test})\n",
        "accuracy = float(correctNum) / float(test_size)\n",
        "print(\"The accuracy of testing set is %f\" % accuracy)"
      ],
      "execution_count": null,
      "outputs": [
        {
          "output_type": "stream",
          "text": [
            "The accuracy of testing set is 1.000000\n"
          ],
          "name": "stdout"
        }
      ]
    }
  ]
}