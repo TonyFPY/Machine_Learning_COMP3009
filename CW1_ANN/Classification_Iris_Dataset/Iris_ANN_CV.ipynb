{
  "nbformat": 4,
  "nbformat_minor": 0,
  "metadata": {
    "colab": {
      "name": "Iris_ANN_CV.ipynb",
      "provenance": [],
      "collapsed_sections": []
    },
    "kernelspec": {
      "display_name": "Python 3",
      "name": "python3"
    }
  },
  "cells": [
    {
      "cell_type": "code",
      "metadata": {
        "id": "e_CWK02cusTb",
        "outputId": "0bd0ddf9-f662-4df4-b710-1f0dd3e335ca",
        "colab": {
          "base_uri": "https://localhost:8080/"
        }
      },
      "source": [
        "import os\n",
        "from google.colab import drive\n",
        "drive.mount('/content/drive', force_remount=True)"
      ],
      "execution_count": 552,
      "outputs": [
        {
          "output_type": "stream",
          "text": [
            "Mounted at /content/drive\n"
          ],
          "name": "stdout"
        }
      ]
    },
    {
      "cell_type": "code",
      "metadata": {
        "id": "6D9I-xaPwv7h"
      },
      "source": [
        "import numpy as np\n",
        "import pickle\n",
        "from matplotlib import pyplot\n",
        "from sklearn.model_selection import KFold\n",
        "import warnings\n",
        "import pandas as pd\n",
        "\n",
        "warnings.filterwarnings(\"ignore\")\n",
        "%matplotlib inline\n",
        "%tensorflow_version 1.x"
      ],
      "execution_count": 553,
      "outputs": []
    },
    {
      "cell_type": "code",
      "metadata": {
        "id": "wzNsQDo3xlE1",
        "outputId": "99f04268-1cfa-4bd8-81f2-acbdf67f239c",
        "colab": {
          "base_uri": "https://localhost:8080/"
        }
      },
      "source": [
        "import tensorflow as tf\n",
        "print(tf.__version__)"
      ],
      "execution_count": 554,
      "outputs": [
        {
          "output_type": "stream",
          "text": [
            "1.15.2\n"
          ],
          "name": "stdout"
        }
      ]
    },
    {
      "cell_type": "code",
      "metadata": {
        "id": "qgIHzrAANrSx"
      },
      "source": [
        "#Function Definition\n",
        "def add_layer(inputs, in_size, out_size, activation_function=None):\n",
        "  Weights = tf.Variable(tf.random_normal([in_size, out_size])) #in_size - rows  out_size - columns\n",
        "  biases = tf.Variable(tf.zeros([1, out_size]) + 0.1) #one row\n",
        "  Wx_plus_b = tf.matmul(inputs, Weights) + biases\n",
        "  if activation_function is None:\n",
        "    outputs = Wx_plus_b\n",
        "  else:\n",
        "    outputs = activation_function(Wx_plus_b)\n",
        "  return outputs"
      ],
      "execution_count": 555,
      "outputs": []
    },
    {
      "cell_type": "code",
      "metadata": {
        "id": "ndMkQIvn6Qo7",
        "outputId": "8d0f199a-cc1a-4f55-e89d-bab952e6413c",
        "colab": {
          "base_uri": "https://localhost:8080/",
          "height": 419
        }
      },
      "source": [
        "# 1、Load Data and Do Preprocessing\n",
        "dataset = pd.read_csv('/content/drive/My Drive/Colab Notebooks/Machine Learning/Iris_Dataset.csv')\n",
        "dataset"
      ],
      "execution_count": 556,
      "outputs": [
        {
          "output_type": "execute_result",
          "data": {
            "text/html": [
              "<div>\n",
              "<style scoped>\n",
              "    .dataframe tbody tr th:only-of-type {\n",
              "        vertical-align: middle;\n",
              "    }\n",
              "\n",
              "    .dataframe tbody tr th {\n",
              "        vertical-align: top;\n",
              "    }\n",
              "\n",
              "    .dataframe thead th {\n",
              "        text-align: right;\n",
              "    }\n",
              "</style>\n",
              "<table border=\"1\" class=\"dataframe\">\n",
              "  <thead>\n",
              "    <tr style=\"text-align: right;\">\n",
              "      <th></th>\n",
              "      <th>Id</th>\n",
              "      <th>SepalLengthCm</th>\n",
              "      <th>SepalWidthCm</th>\n",
              "      <th>PetalLengthCm</th>\n",
              "      <th>PetalWidthCm</th>\n",
              "      <th>Species</th>\n",
              "    </tr>\n",
              "  </thead>\n",
              "  <tbody>\n",
              "    <tr>\n",
              "      <th>0</th>\n",
              "      <td>1</td>\n",
              "      <td>5.1</td>\n",
              "      <td>3.5</td>\n",
              "      <td>1.4</td>\n",
              "      <td>0.2</td>\n",
              "      <td>Iris-setosa</td>\n",
              "    </tr>\n",
              "    <tr>\n",
              "      <th>1</th>\n",
              "      <td>2</td>\n",
              "      <td>4.9</td>\n",
              "      <td>3.0</td>\n",
              "      <td>1.4</td>\n",
              "      <td>0.2</td>\n",
              "      <td>Iris-setosa</td>\n",
              "    </tr>\n",
              "    <tr>\n",
              "      <th>2</th>\n",
              "      <td>3</td>\n",
              "      <td>4.7</td>\n",
              "      <td>3.2</td>\n",
              "      <td>1.3</td>\n",
              "      <td>0.2</td>\n",
              "      <td>Iris-setosa</td>\n",
              "    </tr>\n",
              "    <tr>\n",
              "      <th>3</th>\n",
              "      <td>4</td>\n",
              "      <td>4.6</td>\n",
              "      <td>3.1</td>\n",
              "      <td>1.5</td>\n",
              "      <td>0.2</td>\n",
              "      <td>Iris-setosa</td>\n",
              "    </tr>\n",
              "    <tr>\n",
              "      <th>4</th>\n",
              "      <td>5</td>\n",
              "      <td>5.0</td>\n",
              "      <td>3.6</td>\n",
              "      <td>1.4</td>\n",
              "      <td>0.2</td>\n",
              "      <td>Iris-setosa</td>\n",
              "    </tr>\n",
              "    <tr>\n",
              "      <th>...</th>\n",
              "      <td>...</td>\n",
              "      <td>...</td>\n",
              "      <td>...</td>\n",
              "      <td>...</td>\n",
              "      <td>...</td>\n",
              "      <td>...</td>\n",
              "    </tr>\n",
              "    <tr>\n",
              "      <th>145</th>\n",
              "      <td>146</td>\n",
              "      <td>6.7</td>\n",
              "      <td>3.0</td>\n",
              "      <td>5.2</td>\n",
              "      <td>2.3</td>\n",
              "      <td>Iris-virginica</td>\n",
              "    </tr>\n",
              "    <tr>\n",
              "      <th>146</th>\n",
              "      <td>147</td>\n",
              "      <td>6.3</td>\n",
              "      <td>2.5</td>\n",
              "      <td>5.0</td>\n",
              "      <td>1.9</td>\n",
              "      <td>Iris-virginica</td>\n",
              "    </tr>\n",
              "    <tr>\n",
              "      <th>147</th>\n",
              "      <td>148</td>\n",
              "      <td>6.5</td>\n",
              "      <td>3.0</td>\n",
              "      <td>5.2</td>\n",
              "      <td>2.0</td>\n",
              "      <td>Iris-virginica</td>\n",
              "    </tr>\n",
              "    <tr>\n",
              "      <th>148</th>\n",
              "      <td>149</td>\n",
              "      <td>6.2</td>\n",
              "      <td>3.4</td>\n",
              "      <td>5.4</td>\n",
              "      <td>2.3</td>\n",
              "      <td>Iris-virginica</td>\n",
              "    </tr>\n",
              "    <tr>\n",
              "      <th>149</th>\n",
              "      <td>150</td>\n",
              "      <td>5.9</td>\n",
              "      <td>3.0</td>\n",
              "      <td>5.1</td>\n",
              "      <td>1.8</td>\n",
              "      <td>Iris-virginica</td>\n",
              "    </tr>\n",
              "  </tbody>\n",
              "</table>\n",
              "<p>150 rows × 6 columns</p>\n",
              "</div>"
            ],
            "text/plain": [
              "      Id  SepalLengthCm  ...  PetalWidthCm         Species\n",
              "0      1            5.1  ...           0.2     Iris-setosa\n",
              "1      2            4.9  ...           0.2     Iris-setosa\n",
              "2      3            4.7  ...           0.2     Iris-setosa\n",
              "3      4            4.6  ...           0.2     Iris-setosa\n",
              "4      5            5.0  ...           0.2     Iris-setosa\n",
              "..   ...            ...  ...           ...             ...\n",
              "145  146            6.7  ...           2.3  Iris-virginica\n",
              "146  147            6.3  ...           1.9  Iris-virginica\n",
              "147  148            6.5  ...           2.0  Iris-virginica\n",
              "148  149            6.2  ...           2.3  Iris-virginica\n",
              "149  150            5.9  ...           1.8  Iris-virginica\n",
              "\n",
              "[150 rows x 6 columns]"
            ]
          },
          "metadata": {
            "tags": []
          },
          "execution_count": 556
        }
      ]
    },
    {
      "cell_type": "code",
      "metadata": {
        "id": "s_xyIMH5dMNu",
        "outputId": "51370236-f89a-4940-8725-e5efe47c4167",
        "colab": {
          "base_uri": "https://localhost:8080/",
          "height": 419
        }
      },
      "source": [
        "dataset = pd.get_dummies(dataset, columns=['Species']) # One Hot Encoding\n",
        "dataset"
      ],
      "execution_count": 557,
      "outputs": [
        {
          "output_type": "execute_result",
          "data": {
            "text/html": [
              "<div>\n",
              "<style scoped>\n",
              "    .dataframe tbody tr th:only-of-type {\n",
              "        vertical-align: middle;\n",
              "    }\n",
              "\n",
              "    .dataframe tbody tr th {\n",
              "        vertical-align: top;\n",
              "    }\n",
              "\n",
              "    .dataframe thead th {\n",
              "        text-align: right;\n",
              "    }\n",
              "</style>\n",
              "<table border=\"1\" class=\"dataframe\">\n",
              "  <thead>\n",
              "    <tr style=\"text-align: right;\">\n",
              "      <th></th>\n",
              "      <th>Id</th>\n",
              "      <th>SepalLengthCm</th>\n",
              "      <th>SepalWidthCm</th>\n",
              "      <th>PetalLengthCm</th>\n",
              "      <th>PetalWidthCm</th>\n",
              "      <th>Species_Iris-setosa</th>\n",
              "      <th>Species_Iris-versicolor</th>\n",
              "      <th>Species_Iris-virginica</th>\n",
              "    </tr>\n",
              "  </thead>\n",
              "  <tbody>\n",
              "    <tr>\n",
              "      <th>0</th>\n",
              "      <td>1</td>\n",
              "      <td>5.1</td>\n",
              "      <td>3.5</td>\n",
              "      <td>1.4</td>\n",
              "      <td>0.2</td>\n",
              "      <td>1</td>\n",
              "      <td>0</td>\n",
              "      <td>0</td>\n",
              "    </tr>\n",
              "    <tr>\n",
              "      <th>1</th>\n",
              "      <td>2</td>\n",
              "      <td>4.9</td>\n",
              "      <td>3.0</td>\n",
              "      <td>1.4</td>\n",
              "      <td>0.2</td>\n",
              "      <td>1</td>\n",
              "      <td>0</td>\n",
              "      <td>0</td>\n",
              "    </tr>\n",
              "    <tr>\n",
              "      <th>2</th>\n",
              "      <td>3</td>\n",
              "      <td>4.7</td>\n",
              "      <td>3.2</td>\n",
              "      <td>1.3</td>\n",
              "      <td>0.2</td>\n",
              "      <td>1</td>\n",
              "      <td>0</td>\n",
              "      <td>0</td>\n",
              "    </tr>\n",
              "    <tr>\n",
              "      <th>3</th>\n",
              "      <td>4</td>\n",
              "      <td>4.6</td>\n",
              "      <td>3.1</td>\n",
              "      <td>1.5</td>\n",
              "      <td>0.2</td>\n",
              "      <td>1</td>\n",
              "      <td>0</td>\n",
              "      <td>0</td>\n",
              "    </tr>\n",
              "    <tr>\n",
              "      <th>4</th>\n",
              "      <td>5</td>\n",
              "      <td>5.0</td>\n",
              "      <td>3.6</td>\n",
              "      <td>1.4</td>\n",
              "      <td>0.2</td>\n",
              "      <td>1</td>\n",
              "      <td>0</td>\n",
              "      <td>0</td>\n",
              "    </tr>\n",
              "    <tr>\n",
              "      <th>...</th>\n",
              "      <td>...</td>\n",
              "      <td>...</td>\n",
              "      <td>...</td>\n",
              "      <td>...</td>\n",
              "      <td>...</td>\n",
              "      <td>...</td>\n",
              "      <td>...</td>\n",
              "      <td>...</td>\n",
              "    </tr>\n",
              "    <tr>\n",
              "      <th>145</th>\n",
              "      <td>146</td>\n",
              "      <td>6.7</td>\n",
              "      <td>3.0</td>\n",
              "      <td>5.2</td>\n",
              "      <td>2.3</td>\n",
              "      <td>0</td>\n",
              "      <td>0</td>\n",
              "      <td>1</td>\n",
              "    </tr>\n",
              "    <tr>\n",
              "      <th>146</th>\n",
              "      <td>147</td>\n",
              "      <td>6.3</td>\n",
              "      <td>2.5</td>\n",
              "      <td>5.0</td>\n",
              "      <td>1.9</td>\n",
              "      <td>0</td>\n",
              "      <td>0</td>\n",
              "      <td>1</td>\n",
              "    </tr>\n",
              "    <tr>\n",
              "      <th>147</th>\n",
              "      <td>148</td>\n",
              "      <td>6.5</td>\n",
              "      <td>3.0</td>\n",
              "      <td>5.2</td>\n",
              "      <td>2.0</td>\n",
              "      <td>0</td>\n",
              "      <td>0</td>\n",
              "      <td>1</td>\n",
              "    </tr>\n",
              "    <tr>\n",
              "      <th>148</th>\n",
              "      <td>149</td>\n",
              "      <td>6.2</td>\n",
              "      <td>3.4</td>\n",
              "      <td>5.4</td>\n",
              "      <td>2.3</td>\n",
              "      <td>0</td>\n",
              "      <td>0</td>\n",
              "      <td>1</td>\n",
              "    </tr>\n",
              "    <tr>\n",
              "      <th>149</th>\n",
              "      <td>150</td>\n",
              "      <td>5.9</td>\n",
              "      <td>3.0</td>\n",
              "      <td>5.1</td>\n",
              "      <td>1.8</td>\n",
              "      <td>0</td>\n",
              "      <td>0</td>\n",
              "      <td>1</td>\n",
              "    </tr>\n",
              "  </tbody>\n",
              "</table>\n",
              "<p>150 rows × 8 columns</p>\n",
              "</div>"
            ],
            "text/plain": [
              "      Id  SepalLengthCm  ...  Species_Iris-versicolor  Species_Iris-virginica\n",
              "0      1            5.1  ...                        0                       0\n",
              "1      2            4.9  ...                        0                       0\n",
              "2      3            4.7  ...                        0                       0\n",
              "3      4            4.6  ...                        0                       0\n",
              "4      5            5.0  ...                        0                       0\n",
              "..   ...            ...  ...                      ...                     ...\n",
              "145  146            6.7  ...                        0                       1\n",
              "146  147            6.3  ...                        0                       1\n",
              "147  148            6.5  ...                        0                       1\n",
              "148  149            6.2  ...                        0                       1\n",
              "149  150            5.9  ...                        0                       1\n",
              "\n",
              "[150 rows x 8 columns]"
            ]
          },
          "metadata": {
            "tags": []
          },
          "execution_count": 557
        }
      ]
    },
    {
      "cell_type": "code",
      "metadata": {
        "id": "XjC4S8G6enau"
      },
      "source": [
        "values = list(dataset.columns.values) # Get the column names into a list\n",
        "\n",
        "y = dataset[values[-3:]]\n",
        "y = np.array(y, dtype='float32') # Get labels\n",
        "\n",
        "X = dataset[values[1:-3]]\n",
        "X = np.array(X, dtype='float32') # Get features"
      ],
      "execution_count": 558,
      "outputs": []
    },
    {
      "cell_type": "code",
      "metadata": {
        "id": "6NuK8ax9hfZk"
      },
      "source": [
        "# Shuffle Data\n",
        "indices = np.random.choice(len(X), len(X), replace=False)\n",
        "X_values = X[indices]\n",
        "y_values = y[indices]"
      ],
      "execution_count": 559,
      "outputs": []
    },
    {
      "cell_type": "code",
      "metadata": {
        "id": "5nDBBzXfiR5G"
      },
      "source": [
        "# Create A Training Set, A Validation Set And A Testing Set\n",
        "test_size = 30\n",
        "#validation_size = 20\n",
        "\n",
        "X_train = X_values[: -test_size]  #120\n",
        "y_train = y_values[: -test_size]  #120\n",
        "\n",
        "#X_validation = X_values[-(test_size + validation_size) : -test_size]  #20\n",
        "#y_validation = y_values[-(test_size + validation_size) : -test_size]  #20\n",
        "\n",
        "X_test = X_values[-test_size:]  #30\n",
        "y_test = y_values[-test_size:]  #30"
      ],
      "execution_count": 560,
      "outputs": []
    },
    {
      "cell_type": "code",
      "metadata": {
        "id": "I87pC7o_vfwx"
      },
      "source": [
        "# 2. Build Artificial Neural Network\n",
        "\n",
        "#Parameter Settings\n",
        "interval = 50\n",
        "epochNum = 1000\n",
        "hidden_layer_nodes = 8\n",
        "\n",
        "# Initialize Input Layer (placeholders)\n",
        "xs = tf.placeholder(shape=[None, 4], dtype=tf.float32)\n",
        "ys = tf.placeholder(shape=[None, 3], dtype=tf.float32)\n",
        "\n",
        "# Create Hidden Layers\n",
        "l1 = add_layer(xs, 4, 8, activation_function=tf.nn.relu)\n",
        "\n",
        "# Create Output Layer\n",
        "prediction = add_layer(l1, 8, 3, activation_function=tf.nn.softmax)\n",
        "\n",
        "# Cost Function\n",
        "loss = tf.reduce_mean(-tf.reduce_sum(ys * tf.log(prediction + 1e-10), axis=0)) #1e-10 is used to avoid NaN\n",
        "\n",
        "# Optimizer & Train Step\n",
        "train_step = tf.train.GradientDescentOptimizer(0.001).minimize(loss)\n",
        "\n",
        "# Global Variables Initializer\n",
        "init = tf.global_variables_initializer()\n",
        "\n",
        "sess = tf.Session()\n",
        "sess.run(init)"
      ],
      "execution_count": 561,
      "outputs": []
    },
    {
      "cell_type": "code",
      "metadata": {
        "id": "d0Z0mfCmtGBP"
      },
      "source": [
        "# # 3. Train Artificial Neural Network\n",
        "# for i in range(epoch+1):\n",
        "#   # training\n",
        "#   sess.run(train_step, feed_dict={xs:X_train, ys: y_train})\n",
        "#   train_loss = sess.run(loss, feed_dict={xs: X_train, ys: y_train})\n",
        "#   if i % interval == 0:\n",
        "#     # to see the improvement\n",
        "#     print(\"Epoch %d, loss: %s\"  % (i, train_loss))"
      ],
      "execution_count": 562,
      "outputs": []
    },
    {
      "cell_type": "code",
      "metadata": {
        "id": "DAxFJBE3p2NR",
        "outputId": "fcf6e5ff-6001-44f0-8c71-7445c84452bf",
        "colab": {
          "base_uri": "https://localhost:8080/",
          "height": 1000
        }
      },
      "source": [
        "# 3. Train Artificial Neural Network With Cross Validation\n",
        "kf = KFold(n_splits=10)\n",
        "fold = 0\n",
        "\n",
        "for train_index, val_index in kf.split(X_train, y_train):\n",
        "   sess.run(init)\n",
        "   train_losses = []\n",
        "   val_losses = []\n",
        "   epochs = []\n",
        "   fold = fold + 1\n",
        "   print(\"Fold %s:\" % (fold))\n",
        "   train_x = X_train[train_index]\n",
        "   train_y = y_train[train_index]\n",
        "   val_x = X_train[val_index]\n",
        "   val_y =  y_train[val_index]\n",
        "  \n",
        "   for i in range(epochNum+1):\n",
        "      # Training (train_step)\n",
        "      sess.run(train_step, feed_dict={xs: X_train, ys: y_train})\n",
        "      train_loss = sess.run(loss, feed_dict={xs: X_train, ys: y_train})\n",
        "      val_loss = loss.eval({xs: val_x, ys: val_y}, session=sess)\n",
        "\n",
        "      if i % 10 == 0:\n",
        "        train_losses.append(train_loss)\n",
        "        val_losses.append(val_loss)\n",
        "        epochs.append(i)\n",
        "        \n",
        "      if i % interval == 0:\n",
        "        print(\"Epoch %d, training loss: %s, validation loss: %s\" % (i, train_loss, val_loss))\n",
        "\n",
        "   pyplot.plot(epochs, train_losses, 'r', label='Training loss', linewidth=1, linestyle='-')\n",
        "   pyplot.plot(epochs, val_losses, 'b', label='Validation loss', linewidth=1, linestyle='-.')\n",
        "   pyplot.xlabel('Epoch') \n",
        "   pyplot.ylabel('Loss')\n",
        "   pyplot.title('Training and validation loss for fold %s' % (fold))\n",
        "   pyplot.legend()\n",
        "   pyplot.figure()\n",
        "   pyplot.show()\n",
        "   pyplot.ioff() \n",
        "   print(\"-----------------------------------------------------------------------\\n\\n\")\n",
        "\n",
        "\n",
        "\n"
      ],
      "execution_count": 563,
      "outputs": [
        {
          "output_type": "stream",
          "text": [
            "Fold 1:\n",
            "Epoch 0, training loss: 349.82327, validation loss: 26.9561\n",
            "Epoch 50, training loss: 23.046751, validation loss: 3.1437428\n",
            "Epoch 100, training loss: 11.202579, validation loss: 1.3218516\n",
            "Epoch 150, training loss: 8.23678, validation loss: 0.8470631\n",
            "Epoch 200, training loss: 6.448868, validation loss: 0.5361488\n",
            "Epoch 250, training loss: 5.612843, validation loss: 0.3957866\n",
            "Epoch 300, training loss: 5.068899, validation loss: 0.32532373\n",
            "Epoch 350, training loss: 4.665893, validation loss: 0.27598405\n",
            "Epoch 400, training loss: 4.3578153, validation loss: 0.23939814\n",
            "Epoch 450, training loss: 4.1155534, validation loss: 0.21147712\n",
            "Epoch 500, training loss: 3.9205582, validation loss: 0.18960802\n",
            "Epoch 550, training loss: 3.7607224, validation loss: 0.17200792\n",
            "Epoch 600, training loss: 3.6280506, validation loss: 0.15768473\n",
            "Epoch 650, training loss: 3.515975, validation loss: 0.1459201\n",
            "Epoch 700, training loss: 3.4199588, validation loss: 0.13604592\n",
            "Epoch 750, training loss: 3.33685, validation loss: 0.12767199\n",
            "Epoch 800, training loss: 3.2641385, validation loss: 0.120506085\n",
            "Epoch 850, training loss: 3.1999462, validation loss: 0.11424061\n",
            "Epoch 900, training loss: 3.1428235, validation loss: 0.10886714\n",
            "Epoch 950, training loss: 3.091632, validation loss: 0.10410664\n",
            "Epoch 1000, training loss: 3.045457, validation loss: 0.09989104\n"
          ],
          "name": "stdout"
        },
        {
          "output_type": "display_data",
          "data": {
            "image/png": "[encoded data removed]",
            "text/plain": [
              "<Figure size 432x288 with 1 Axes>"
            ]
          },
          "metadata": {
            "tags": [],
            "needs_background": "light"
          }
        },
        {
          "output_type": "display_data",
          "data": {
            "text/plain": [
              "<Figure size 432x288 with 0 Axes>"
            ]
          },
          "metadata": {
            "tags": []
          }
        },
        {
          "output_type": "stream",
          "text": [
            "-----------------------------------------------------------------------\n",
            "\n",
            "\n",
            "Fold 2:\n",
            "Epoch 0, training loss: 358.64148, validation loss: 29.463102\n",
            "Epoch 50, training loss: 6.0433593, validation loss: 0.50989115\n",
            "Epoch 100, training loss: 5.041091, validation loss: 0.38450316\n",
            "Epoch 150, training loss: 4.5324936, validation loss: 0.31966564\n",
            "Epoch 200, training loss: 4.207833, validation loss: 0.27915922\n",
            "Epoch 250, training loss: 3.978843, validation loss: 0.25088352\n",
            "Epoch 300, training loss: 3.8075364, validation loss: 0.23017931\n",
            "Epoch 350, training loss: 3.6741955, validation loss: 0.21461676\n",
            "Epoch 400, training loss: 3.568133, validation loss: 0.2025494\n",
            "Epoch 450, training loss: 3.4811223, validation loss: 0.19290905\n",
            "Epoch 500, training loss: 3.4079723, validation loss: 0.18500243\n",
            "Epoch 550, training loss: 3.3452272, validation loss: 0.17843507\n",
            "Epoch 600, training loss: 3.2906606, validation loss: 0.17289126\n",
            "Epoch 650, training loss: 3.2426617, validation loss: 0.16829646\n",
            "Epoch 700, training loss: 3.2000382, validation loss: 0.16423051\n",
            "Epoch 750, training loss: 3.1618583, validation loss: 0.16072175\n",
            "Epoch 800, training loss: 3.1274235, validation loss: 0.15769562\n",
            "Epoch 850, training loss: 3.0960903, validation loss: 0.15503958\n",
            "Epoch 900, training loss: 3.0673943, validation loss: 0.15269566\n",
            "Epoch 950, training loss: 3.0409622, validation loss: 0.15061466\n",
            "Epoch 1000, training loss: 3.0164862, validation loss: 0.14876299\n"
          ],
          "name": "stdout"
        },
        {
          "output_type": "display_data",
          "data": {
            "image/png": "[encoded data removed]",
            "text/plain": [
              "<Figure size 432x288 with 1 Axes>"
            ]
          },
          "metadata": {
            "tags": [],
            "needs_background": "light"
          }
        },
        {
          "output_type": "display_data",
          "data": {
            "text/plain": [
              "<Figure size 432x288 with 0 Axes>"
            ]
          },
          "metadata": {
            "tags": []
          }
        },
        {
          "output_type": "stream",
          "text": [
            "-----------------------------------------------------------------------\n",
            "\n",
            "\n",
            "Fold 3:\n",
            "Epoch 0, training loss: 442.99142, validation loss: 21.98295\n",
            "Epoch 50, training loss: 42.8947, validation loss: 8.921741\n",
            "Epoch 100, training loss: 8.25051, validation loss: 2.0014613\n",
            "Epoch 150, training loss: 5.890784, validation loss: 1.2801877\n",
            "Epoch 200, training loss: 5.230593, validation loss: 1.1928233\n",
            "Epoch 250, training loss: 4.7727456, validation loss: 1.1353582\n",
            "Epoch 300, training loss: 4.436826, validation loss: 1.0890552\n",
            "Epoch 350, training loss: 4.1873384, validation loss: 1.0520276\n",
            "Epoch 400, training loss: 3.9921353, validation loss: 1.0193554\n",
            "Epoch 450, training loss: 3.8342533, validation loss: 0.99074954\n",
            "Epoch 500, training loss: 3.7038429, validation loss: 0.96505684\n",
            "Epoch 550, training loss: 3.5943203, validation loss: 0.94159555\n",
            "Epoch 600, training loss: 3.5010788, validation loss: 0.9200952\n",
            "Epoch 650, training loss: 3.4208126, validation loss: 0.90034634\n",
            "Epoch 700, training loss: 3.3511994, validation loss: 0.8822763\n",
            "Epoch 750, training loss: 3.2901423, validation loss: 0.8652254\n",
            "Epoch 800, training loss: 3.2360952, validation loss: 0.84925014\n",
            "Epoch 850, training loss: 3.1878836, validation loss: 0.8341922\n",
            "Epoch 900, training loss: 3.1445749, validation loss: 0.82001215\n",
            "Epoch 950, training loss: 3.1054137, validation loss: 0.8065458\n",
            "Epoch 1000, training loss: 3.0697858, validation loss: 0.7937422\n"
          ],
          "name": "stdout"
        },
        {
          "output_type": "display_data",
          "data": {
            "image/png": "[encoded data removed]",
            "text/plain": [
              "<Figure size 432x288 with 1 Axes>"
            ]
          },
          "metadata": {
            "tags": [],
            "needs_background": "light"
          }
        },
        {
          "output_type": "display_data",
          "data": {
            "text/plain": [
              "<Figure size 432x288 with 0 Axes>"
            ]
          },
          "metadata": {
            "tags": []
          }
        },
        {
          "output_type": "stream",
          "text": [
            "-----------------------------------------------------------------------\n",
            "\n",
            "\n",
            "Fold 4:\n",
            "Epoch 0, training loss: 111.99673, validation loss: 15.684661\n",
            "Epoch 50, training loss: 20.975454, validation loss: 1.6486846\n",
            "Epoch 100, training loss: 16.469103, validation loss: 1.1884705\n",
            "Epoch 150, training loss: 14.084689, validation loss: 0.9076788\n",
            "Epoch 200, training loss: 11.973465, validation loss: 0.6842101\n",
            "Epoch 250, training loss: 9.929309, validation loss: 0.5180497\n",
            "Epoch 300, training loss: 7.9863625, validation loss: 0.41089532\n",
            "Epoch 350, training loss: 6.354593, validation loss: 0.35892484\n",
            "Epoch 400, training loss: 5.350081, validation loss: 0.34241867\n",
            "Epoch 450, training loss: 4.77791, validation loss: 0.33625135\n",
            "Epoch 500, training loss: 4.4273076, validation loss: 0.31996873\n",
            "Epoch 550, training loss: 4.1675243, validation loss: 0.29717615\n",
            "Epoch 600, training loss: 3.9607222, validation loss: 0.27416626\n",
            "Epoch 650, training loss: 3.7919674, validation loss: 0.25366545\n",
            "Epoch 700, training loss: 3.6519527, validation loss: 0.23561467\n",
            "Epoch 750, training loss: 3.5340946, validation loss: 0.2197442\n",
            "Epoch 800, training loss: 3.4337215, validation loss: 0.20568131\n",
            "Epoch 850, training loss: 3.3472683, validation loss: 0.19319545\n",
            "Epoch 900, training loss: 3.2720907, validation loss: 0.18208827\n",
            "Epoch 950, training loss: 3.2061489, validation loss: 0.172083\n",
            "Epoch 1000, training loss: 3.1478672, validation loss: 0.16306818\n"
          ],
          "name": "stdout"
        },
        {
          "output_type": "display_data",
          "data": {
            "image/png": "[encoded data removed]",
            "text/plain": [
              "<Figure size 432x288 with 1 Axes>"
            ]
          },
          "metadata": {
            "tags": [],
            "needs_background": "light"
          }
        },
        {
          "output_type": "display_data",
          "data": {
            "text/plain": [
              "<Figure size 432x288 with 0 Axes>"
            ]
          },
          "metadata": {
            "tags": []
          }
        },
        {
          "output_type": "stream",
          "text": [
            "-----------------------------------------------------------------------\n",
            "\n",
            "\n",
            "Fold 5:\n",
            "Epoch 0, training loss: 614.023, validation loss: 46.0517\n",
            "Epoch 50, training loss: 614.023, validation loss: 46.0517\n",
            "Epoch 100, training loss: 614.023, validation loss: 46.0517\n",
            "Epoch 150, training loss: 614.023, validation loss: 46.0517\n",
            "Epoch 200, training loss: 614.023, validation loss: 46.0517\n",
            "Epoch 250, training loss: 614.023, validation loss: 46.0517\n",
            "Epoch 300, training loss: 614.023, validation loss: 46.0517\n",
            "Epoch 350, training loss: 614.023, validation loss: 46.0517\n",
            "Epoch 400, training loss: 614.023, validation loss: 46.0517\n",
            "Epoch 450, training loss: 614.023, validation loss: 46.0517\n",
            "Epoch 500, training loss: 614.023, validation loss: 46.0517\n",
            "Epoch 550, training loss: 614.023, validation loss: 46.0517\n",
            "Epoch 600, training loss: 614.023, validation loss: 46.0517\n",
            "Epoch 650, training loss: 614.023, validation loss: 46.0517\n",
            "Epoch 700, training loss: 614.023, validation loss: 46.0517\n",
            "Epoch 750, training loss: 614.023, validation loss: 46.0517\n",
            "Epoch 800, training loss: 614.023, validation loss: 46.0517\n",
            "Epoch 850, training loss: 614.023, validation loss: 46.0517\n",
            "Epoch 900, training loss: 614.023, validation loss: 46.0517\n",
            "Epoch 950, training loss: 614.023, validation loss: 46.0517\n",
            "Epoch 1000, training loss: 614.023, validation loss: 46.0517\n"
          ],
          "name": "stdout"
        },
        {
          "output_type": "display_data",
          "data": {
            "image/png": "[encoded data removed]",
            "text/plain": [
              "<Figure size 432x288 with 1 Axes>"
            ]
          },
          "metadata": {
            "tags": [],
            "needs_background": "light"
          }
        },
        {
          "output_type": "display_data",
          "data": {
            "text/plain": [
              "<Figure size 432x288 with 0 Axes>"
            ]
          },
          "metadata": {
            "tags": []
          }
        },
        {
          "output_type": "stream",
          "text": [
            "-----------------------------------------------------------------------\n",
            "\n",
            "\n",
            "Fold 6:\n",
            "Epoch 0, training loss: 255.77618, validation loss: 25.89638\n",
            "Epoch 50, training loss: 20.111937, validation loss: 2.6259825\n",
            "Epoch 100, training loss: 13.094525, validation loss: 1.9235302\n",
            "Epoch 150, training loss: 10.761405, validation loss: 1.7803892\n",
            "Epoch 200, training loss: 9.341361, validation loss: 1.6928228\n",
            "Epoch 250, training loss: 8.33746, validation loss: 1.6193447\n",
            "Epoch 300, training loss: 7.5742116, validation loss: 1.5533776\n",
            "Epoch 350, training loss: 6.965004, validation loss: 1.4915028\n",
            "Epoch 400, training loss: 6.4634705, validation loss: 1.433108\n",
            "Epoch 450, training loss: 6.042439, validation loss: 1.3779129\n",
            "Epoch 500, training loss: 5.6840205, validation loss: 1.3260183\n",
            "Epoch 550, training loss: 5.375704, validation loss: 1.2773517\n",
            "Epoch 600, training loss: 5.107648, validation loss: 1.231319\n",
            "Epoch 650, training loss: 4.8723187, validation loss: 1.1875455\n",
            "Epoch 700, training loss: 4.664408, validation loss: 1.1458964\n",
            "Epoch 750, training loss: 4.479696, validation loss: 1.1062394\n",
            "Epoch 800, training loss: 4.3147926, validation loss: 1.0684469\n",
            "Epoch 850, training loss: 4.166971, validation loss: 1.0324141\n",
            "Epoch 900, training loss: 4.03392, validation loss: 0.9980237\n",
            "Epoch 950, training loss: 3.9137185, validation loss: 0.9652073\n",
            "Epoch 1000, training loss: 3.804786, validation loss: 0.9339092\n"
          ],
          "name": "stdout"
        },
        {
          "output_type": "display_data",
          "data": {
            "image/png": "[encoded data removed]",
            "text/plain": [
              "<Figure size 432x288 with 1 Axes>"
            ]
          },
          "metadata": {
            "tags": [],
            "needs_background": "light"
          }
        },
        {
          "output_type": "display_data",
          "data": {
            "text/plain": [
              "<Figure size 432x288 with 0 Axes>"
            ]
          },
          "metadata": {
            "tags": []
          }
        },
        {
          "output_type": "stream",
          "text": [
            "-----------------------------------------------------------------------\n",
            "\n",
            "\n",
            "Fold 7:\n",
            "Epoch 0, training loss: 302.5004, validation loss: 23.02591\n",
            "Epoch 50, training loss: 9.931949, validation loss: 0.94054765\n",
            "Epoch 100, training loss: 7.3098245, validation loss: 0.6650184\n",
            "Epoch 150, training loss: 6.2820725, validation loss: 0.54650635\n",
            "Epoch 200, training loss: 5.607344, validation loss: 0.4680004\n",
            "Epoch 250, training loss: 5.1350207, validation loss: 0.41322407\n",
            "Epoch 300, training loss: 4.7860346, validation loss: 0.3717703\n",
            "Epoch 350, training loss: 4.517809, validation loss: 0.3389198\n",
            "Epoch 400, training loss: 4.305096, validation loss: 0.31202754\n",
            "Epoch 450, training loss: 4.132062, validation loss: 0.2894372\n",
            "Epoch 500, training loss: 3.9883463, validation loss: 0.2699764\n",
            "Epoch 550, training loss: 3.8668969, validation loss: 0.25300503\n",
            "Epoch 600, training loss: 3.7627518, validation loss: 0.2378981\n",
            "Epoch 650, training loss: 3.6723273, validation loss: 0.22467637\n",
            "Epoch 700, training loss: 3.5929692, validation loss: 0.21252729\n",
            "Epoch 750, training loss: 3.5226748, validation loss: 0.20168704\n",
            "Epoch 800, training loss: 3.4598935, validation loss: 0.1916991\n",
            "Epoch 850, training loss: 3.4034176, validation loss: 0.18247257\n",
            "Epoch 900, training loss: 3.352296, validation loss: 0.17402416\n",
            "Epoch 950, training loss: 3.3057623, validation loss: 0.16631304\n",
            "Epoch 1000, training loss: 3.2631633, validation loss: 0.15912126\n"
          ],
          "name": "stdout"
        },
        {
          "output_type": "display_data",
          "data": {
            "image/png": "[encoded data removed]",
            "text/plain": [
              "<Figure size 432x288 with 1 Axes>"
            ]
          },
          "metadata": {
            "tags": [],
            "needs_background": "light"
          }
        },
        {
          "output_type": "display_data",
          "data": {
            "text/plain": [
              "<Figure size 432x288 with 0 Axes>"
            ]
          },
          "metadata": {
            "tags": []
          }
        },
        {
          "output_type": "stream",
          "text": [
            "-----------------------------------------------------------------------\n",
            "\n",
            "\n",
            "Fold 8:\n",
            "Epoch 0, training loss: 240.36084, validation loss: 17.001041\n",
            "Epoch 50, training loss: 16.288263, validation loss: 1.8023577\n",
            "Epoch 100, training loss: 12.451363, validation loss: 1.3431586\n",
            "Epoch 150, training loss: 10.077802, validation loss: 1.0622641\n",
            "Epoch 200, training loss: 8.48656, validation loss: 0.8708132\n",
            "Epoch 250, training loss: 7.3958993, validation loss: 0.73528916\n",
            "Epoch 300, training loss: 6.6223655, validation loss: 0.6353174\n",
            "Epoch 350, training loss: 6.051932, validation loss: 0.55854946\n",
            "Epoch 400, training loss: 5.6154275, validation loss: 0.49753428\n",
            "Epoch 450, training loss: 5.2704167, validation loss: 0.44767037\n",
            "Epoch 500, training loss: 4.990173, validation loss: 0.40601882\n",
            "Epoch 550, training loss: 4.757464, validation loss: 0.3706429\n",
            "Epoch 600, training loss: 4.5604324, validation loss: 0.34015393\n",
            "Epoch 650, training loss: 4.3910356, validation loss: 0.3135988\n",
            "Epoch 700, training loss: 4.2436004, validation loss: 0.29027334\n",
            "Epoch 750, training loss: 4.1140137, validation loss: 0.2696546\n",
            "Epoch 800, training loss: 3.998893, validation loss: 0.2512584\n",
            "Epoch 850, training loss: 3.8958538, validation loss: 0.23478599\n",
            "Epoch 900, training loss: 3.803056, validation loss: 0.21997263\n",
            "Epoch 950, training loss: 3.7191257, validation loss: 0.20661755\n",
            "Epoch 1000, training loss: 3.6427746, validation loss: 0.19450922\n"
          ],
          "name": "stdout"
        },
        {
          "output_type": "display_data",
          "data": {
            "image/png": "[encoded data removed]",
            "text/plain": [
              "<Figure size 432x288 with 1 Axes>"
            ]
          },
          "metadata": {
            "tags": [],
            "needs_background": "light"
          }
        },
        {
          "output_type": "display_data",
          "data": {
            "text/plain": [
              "<Figure size 432x288 with 0 Axes>"
            ]
          },
          "metadata": {
            "tags": []
          }
        },
        {
          "output_type": "stream",
          "text": [
            "-----------------------------------------------------------------------\n",
            "\n",
            "\n",
            "Fold 9:\n",
            "Epoch 0, training loss: 179.20247, validation loss: 26.405985\n",
            "Epoch 50, training loss: 11.998279, validation loss: 1.4530402\n",
            "Epoch 100, training loss: 8.385516, validation loss: 1.2938672\n",
            "Epoch 150, training loss: 7.0109277, validation loss: 1.1932232\n",
            "Epoch 200, training loss: 6.1343613, validation loss: 1.1359255\n",
            "Epoch 250, training loss: 5.5183983, validation loss: 1.1012306\n",
            "Epoch 300, training loss: 5.0623302, validation loss: 1.0805807\n",
            "Epoch 350, training loss: 4.7128615, validation loss: 1.0678034\n",
            "Epoch 400, training loss: 4.4374394, validation loss: 1.059851\n",
            "Epoch 450, training loss: 4.215613, validation loss: 1.0552487\n",
            "Epoch 500, training loss: 4.0336447, validation loss: 1.052898\n",
            "Epoch 550, training loss: 3.882333, validation loss: 1.051689\n",
            "Epoch 600, training loss: 3.754586, validation loss: 1.0512848\n",
            "Epoch 650, training loss: 3.6454499, validation loss: 1.0513505\n",
            "Epoch 700, training loss: 3.5512264, validation loss: 1.0516613\n",
            "Epoch 750, training loss: 3.469105, validation loss: 1.0520748\n",
            "Epoch 800, training loss: 3.396922, validation loss: 1.0524932\n",
            "Epoch 850, training loss: 3.332984, validation loss: 1.0528567\n",
            "Epoch 900, training loss: 3.275986, validation loss: 1.0532457\n",
            "Epoch 950, training loss: 3.2249634, validation loss: 1.0532597\n",
            "Epoch 1000, training loss: 3.1788676, validation loss: 1.0532503\n"
          ],
          "name": "stdout"
        },
        {
          "output_type": "display_data",
          "data": {
            "image/png": "[encoded data removed]",
            "text/plain": [
              "<Figure size 432x288 with 1 Axes>"
            ]
          },
          "metadata": {
            "tags": [],
            "needs_background": "light"
          }
        },
        {
          "output_type": "display_data",
          "data": {
            "text/plain": [
              "<Figure size 432x288 with 0 Axes>"
            ]
          },
          "metadata": {
            "tags": []
          }
        },
        {
          "output_type": "stream",
          "text": [
            "-----------------------------------------------------------------------\n",
            "\n",
            "\n",
            "Fold 10:\n",
            "Epoch 0, training loss: 47.596973, validation loss: 4.7097063\n",
            "Epoch 50, training loss: 43.773037, validation loss: 4.362953\n",
            "Epoch 100, training loss: 43.734844, validation loss: 4.3639\n",
            "Epoch 150, training loss: 43.69246, validation loss: 4.363865\n",
            "Epoch 200, training loss: 43.662174, validation loss: 4.3629584\n",
            "Epoch 250, training loss: 43.627575, validation loss: 4.361674\n",
            "Epoch 300, training loss: 43.611134, validation loss: 4.3604875\n",
            "Epoch 350, training loss: 43.582108, validation loss: 4.3592887\n",
            "Epoch 400, training loss: 43.565144, validation loss: 4.3580203\n",
            "Epoch 450, training loss: 43.49954, validation loss: 4.3561287\n",
            "Epoch 500, training loss: 43.18387, validation loss: 4.42743\n",
            "Epoch 550, training loss: 35.212082, validation loss: 3.5880263\n",
            "Epoch 600, training loss: 28.314466, validation loss: 2.6720932\n",
            "Epoch 650, training loss: 24.346632, validation loss: 2.231696\n",
            "Epoch 700, training loss: 21.86635, validation loss: 2.0214229\n",
            "Epoch 750, training loss: 19.959795, validation loss: 1.886851\n",
            "Epoch 800, training loss: 18.28299, validation loss: 1.7654549\n",
            "Epoch 850, training loss: 16.931498, validation loss: 1.6297517\n",
            "Epoch 900, training loss: 15.794999, validation loss: 1.5103709\n",
            "Epoch 950, training loss: 14.758147, validation loss: 1.397387\n",
            "Epoch 1000, training loss: 13.817837, validation loss: 1.293598\n"
          ],
          "name": "stdout"
        },
        {
          "output_type": "display_data",
          "data": {
            "image/png": "[encoded data removed]",
            "text/plain": [
              "<Figure size 432x288 with 1 Axes>"
            ]
          },
          "metadata": {
            "tags": [],
            "needs_background": "light"
          }
        },
        {
          "output_type": "display_data",
          "data": {
            "text/plain": [
              "<Figure size 432x288 with 0 Axes>"
            ]
          },
          "metadata": {
            "tags": []
          }
        },
        {
          "output_type": "stream",
          "text": [
            "-----------------------------------------------------------------------\n",
            "\n",
            "\n"
          ],
          "name": "stdout"
        }
      ]
    },
    {
      "cell_type": "code",
      "metadata": {
        "id": "Gc87JSks7P-N",
        "outputId": "a41db684-ac3b-4f99-fadb-97b203218418",
        "colab": {
          "base_uri": "https://localhost:8080/"
        }
      },
      "source": [
        "# 4. Testing\n",
        "pred = tf.argmax(prediction, axis=1)\n",
        "actual = tf.argmax(y_test, axis=1)\n",
        "correct = tf.cast(tf.equal(pred, actual), dtype=tf.int32)\n",
        "correct = tf.reduce_sum(correct)\n",
        "correctNum = sess.run(correct, feed_dict={xs:X_test})\n",
        "accuracy = float(correctNum) / float(test_size)\n",
        "print(\"The accuracy of testing set is %f\" % accuracy)"
      ],
      "execution_count": 564,
      "outputs": [
        {
          "output_type": "stream",
          "text": [
            "The accuracy of testing set is 1.000000\n"
          ],
          "name": "stdout"
        }
      ]
    }
  ]
}