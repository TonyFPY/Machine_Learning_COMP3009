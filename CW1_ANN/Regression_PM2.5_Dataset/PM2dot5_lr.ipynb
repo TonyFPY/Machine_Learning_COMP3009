{
  "nbformat": 4,
  "nbformat_minor": 0,
  "metadata": {
    "colab": {
      "name": "PM2dot5_lr.ipynb",
      "provenance": [],
      "collapsed_sections": [],
      "toc_visible": true
    },
    "kernelspec": {
      "name": "python3",
      "display_name": "Python 3"
    },
    "accelerator": "GPU"
  },
  "cells": [
    {
      "cell_type": "markdown",
      "metadata": {
        "id": "KabVvo47dMxv"
      },
      "source": [
        "### **Beijing PM2.5 Dataset for classification**\n",
        "\n",
        "**Abstract:** \n",
        "<p>This hourly data set contains the PM2.5 data of US Embassy in Beijing. Meanwhile, meteorological data from Beijing Capital International Airport are also included.</p>\n",
        "\n",
        "**Attribute Information:**\n",
        "\n",
        "|Attributte| Explanation                 ||Attributte| Explanation          |\n",
        "|  :----   | :----                       ||  :----   | :----                |\n",
        "|No.       | row number                  ||DEWP.| Dew Point (â„ƒ)           | \n",
        "|year.     | year of data in this row    ||TEMP | Temperature (â„ƒ)         | \n",
        "|month.    | month of data in this row   ||PRES.| Pressure (hPa)            | \n",
        "|day.      | day of data in this row     ||cbwd.| Combined wind direction   | \n",
        "|hour.     | hour of data in this row    ||Iws. | Cumulated wind speed (m/s)| \n",
        "|pm2.5.    | PM2.5 concentration (ug/m^3)||Is.  | Cumulated hours of snow   | \n",
        "|.         |                             ||Ir.  | Cumulated hours of rain   | \n",
        "\n",
        "**Data source:**\n",
        "<p>Liang, X., Zou, T., Guo, B., Li, S., Zhang, H., Zhang, S., Huang, H. and Chen, S. X. (2015). Assessing Beijing's PM2.5 pollution: severity, weather impact, APEC and winter heating. Proceedings of the Royal Society A, 471, 20150257.</p>"
      ]
    },
    {
      "cell_type": "code",
      "metadata": {
        "id": "WHBoLiUJdRxK",
        "outputId": "e3fdb434-3be8-4107-912c-6d65c349fdce",
        "colab": {
          "base_uri": "https://localhost:8080/"
        }
      },
      "source": [
        "# Environment Preparation\n",
        "%tensorflow_version 1.x\n",
        "import tensorflow as tf\n",
        "print(tf.__version__)"
      ],
      "execution_count": 153,
      "outputs": [
        {
          "output_type": "stream",
          "text": [
            "1.15.2\n"
          ],
          "name": "stdout"
        }
      ]
    },
    {
      "cell_type": "markdown",
      "metadata": {
        "id": "e5Z0NBP3H9HF"
      },
      "source": [
        "**Data Pre-processing:**\n",
        "\n",
        "*   Data Cleaning\n",
        "*   Feature Selection\n",
        "*   Data Split\n",
        "*   Data Normalisation\n"
      ]
    },
    {
      "cell_type": "code",
      "metadata": {
        "id": "wpsxCmYBqXf9"
      },
      "source": [
        "import pandas as pd\n",
        "import numpy as np\n",
        "import datetime\n",
        "import time\n",
        "from matplotlib import pyplot\n",
        "import math\n",
        "import random\n",
        "\n",
        "# read data from csv file and process X, y\n",
        "def data_loader(data_path):\n",
        "\t\t# load raw data\n",
        "\t\tdf = pd.read_csv(data_path)\n",
        "\n",
        "\t\t# clean data with missing values          \n",
        "\t\t'''drop the rows directly -> mess up the order\n",
        "\t\t\tfirst 24 rows have pm2.5 value that is NaN -> discard\n",
        "\t\t\telse: forward filling'''\n",
        "\t\tdf = df[24:].fillna(method='ffill')\n",
        "\n",
        "\t\t# integrate 'year', 'month', 'day', 'hour', 'No' as one attribute\n",
        "\t\tdf['time'] = df.apply(lambda x : datetime.datetime(year=x['year'], month=x['month'], day=x['day'], hour=x['hour']), axis=1)\n",
        "\t\tdf.drop(columns=['year', 'month', 'day', 'hour', 'No'], inplace=True)\n",
        "\t\tdf = df.set_index('time')\n",
        "\n",
        "\t\t# expand \"cbwd\" into 4 attributes 'SE', 'cv', 'NW', 'NE'\n",
        "\t\tdf = df.join(pd.get_dummies(df['cbwd'])) # one-hot encoding\n",
        "\t\tdel df['cbwd']\n",
        "\n",
        "\t\t# df = df.drop('cbwd', axis = 1) # remove the attribute temporarily\n",
        "\n",
        "\t\tX = df.iloc[:,1:].astype(np.float32)\n",
        "\t\ty = df['pm2.5'].astype(np.float32).to_frame()\n",
        "\t\n",
        "\t\treturn X, y\n",
        "\n",
        "# split the data into train, val and test set\n",
        "from sklearn.model_selection import train_test_split\n",
        "def train_test_val_split(data, ratio_train, ratio_test, ratio_val):\n",
        "\t\tX_train, X_middle, y_train, y_middle = train_test_split(data[0], data[1], train_size=ratio_train, test_size=ratio_test + ratio_val, shuffle=True)\n",
        "\t\tratio = ratio_val/(1-ratio_train)\n",
        "\t\tX_val, X_test, y_val, y_test = train_test_split(X_middle, y_middle, train_size=ratio, shuffle=True)\n",
        "\t\treturn (X_train, y_train),(X_val, y_val),(X_test, y_test)\n",
        "\n",
        "# Z-score normalisation\n",
        "def data_normalisation(train, val, test):\n",
        "\t\tX_train, y_train = train[0], train[1]\n",
        "\t\tX_val, y_val = val[0], val[1]\n",
        "\t\tX_test, y_test = test[0], test[1]\n",
        "\n",
        "\t\tmean_x, std_x = X_train.mean(axis=0), X_train.std(axis=0)\n",
        "\t\tmean_y, std_y = y_train.mean(axis=0), y_train.std(axis=0)\n",
        "\t\n",
        "\t\t# Use the mean & std of train. Since there's no way for us to know the future.\n",
        "\t\t# (X_train, y_train) = ((X_train-mean_x)/std_x, (y_train-mean_y)/std_y)\n",
        "\t\t# (X_val, y_val) = ((X_val-mean_x)/std_x, (y_val-mean_y)/std_y) \n",
        "\t\t# (X_test, y_test) = ((X_test-mean_x)/std_x, (y_test-mean_y)/std_y)\n",
        "\t\t# X_train = (X_train-mean_x)/std_x,\n",
        "\t\t# X_val = (X_val-mean_x)/std_x\n",
        "\t\t# X_test = (X_test-mean_x)/std_x\n",
        "\t\t(X_train, y_train) = ((X_train-mean_x)/std_x, np.log(np.asarray(y_train) + 1))\n",
        "\t\t(X_val, y_val) = ((X_val-mean_x)/std_x, np.log(np.asarray(y_val) + 1)) \n",
        "\t\t(X_test, y_test) = ((X_test-mean_x)/std_x, np.log(np.asarray(y_test) + 1))\n",
        "\n",
        "\t\treturn (X_train, y_train),(X_val, y_val),(X_test, y_test)\n",
        "\n",
        "data_path = \"/content/drive/My Drive/Colab Notebooks/ML_COMP3009/CW1/regression/pm2dot5.csv\"\n",
        "X, y = data_loader(data_path)\n",
        "\n",
        "(X_train, y_train),(X_val, y_val),(X_test, y_test) = train_test_val_split((X.values, y.values), 0.8, 0.1, 0.1)\n",
        "\n",
        "(X_train, y_train),(X_val, y_val),(X_test, y_test) = data_normalisation((X_train, y_train),(X_val, y_val),(X_test, y_test))\n",
        "\n",
        "# X_train.shape, y_train.shape, X_test.shape, y_test.shape, X_val.shape, y_val.shape\n",
        "\n"
      ],
      "execution_count": 154,
      "outputs": []
    },
    {
      "cell_type": "markdown",
      "metadata": {
        "id": "HlRfznRZeyts"
      },
      "source": [
        "Artificial Neural Network Configuration"
      ]
    },
    {
      "cell_type": "code",
      "metadata": {
        "id": "VMWvzjPkTo3a"
      },
      "source": [
        "#Network parameters\n",
        "n_input = 10 # 6\n",
        "n_hidden1, n_hidden2, n_hidden3 = 20, 10, 5\n",
        "n_output = 1\n",
        "#Learning parameters \n",
        "learning_rate = 0.01\n",
        "number_epochs = 10000\n",
        "batch_size = 1000\n",
        "\n",
        "#Defining the input and the output\n",
        "X_p = tf.placeholder(\"float\", [None, n_input], name='X_p') \n",
        "Y_p = tf.placeholder(\"float\", [None, n_output], name='Y_p')\n",
        "# lr_p = tf.placeholder(\"float\", None, name='lr_p')\n",
        "\n",
        "# forward\n",
        "def multilayer_perceptron(input_d):\n",
        "    #DEFINING WEIGHTS AND BIASES\n",
        "    b1 = tf.Variable(tf.random_normal([n_hidden1])) #Biases first hidden layer\n",
        "    b2 = tf.Variable(tf.random_normal([n_hidden2])) #Biases second hidden layer\n",
        "    b3 = tf.Variable(tf.random_normal([n_hidden3])) #Biases third hidden layer\n",
        "    b4 = tf.Variable(tf.random_normal([n_output]))  #Biases output layer\n",
        "    \n",
        "    w1 = tf.Variable(tf.random_normal([n_input, n_hidden1]))   #Weights connecting input layer with first hidden layer\n",
        "    w2 = tf.Variable(tf.random_normal([n_hidden1, n_hidden2])) #Weights connecting first hidden layer with second hidden layer \n",
        "    w3 = tf.Variable(tf.random_normal([n_hidden2, n_hidden3])) #Weights connecting second hidden layer with third layer\n",
        "    w4 = tf.Variable(tf.random_normal([n_hidden3, n_output]))  #Weights connecting third hidden layer with output layer\n",
        "\n",
        "    layer_1 = tf.nn.relu(tf.add(tf.matmul(input_d, w1), b1)) #Task of neurons of first hidden layer\n",
        "    layer_2 = tf.nn.relu(tf.add(tf.matmul(layer_1, w2), b2)) #Task of neurons of second hidden layer\n",
        "    layer_3 = tf.nn.relu(tf.add(tf.matmul(layer_2, w3), b3)) #Task of neurons of thrid layer\n",
        "    out_layer = tf.add(tf.matmul(layer_3, w4),b4)            #Task of neurons of output layer\n",
        "    \n",
        "    return out_layer\n",
        "\n",
        "# create model\n",
        "neural_network = multilayer_perceptron(X_p)\n",
        "# define loss function\n",
        "loss_func = tf.reduce_mean(tf.math.squared_difference(neural_network,Y_p)) # MSE\n",
        "eval_RMSE = tf.cast(tf.sqrt(loss_func),dtype=tf.float32)\n",
        "# define optimizer\n",
        "optimizer = tf.train.GradientDescentOptimizer(learning_rate).minimize(loss_func)\n",
        "\n",
        "# initializaing variables\n",
        "init = tf.global_variables_initializer()\n"
      ],
      "execution_count": 155,
      "outputs": []
    },
    {
      "cell_type": "markdown",
      "metadata": {
        "id": "veUIl77HgiAq"
      },
      "source": [
        "Training the model"
      ]
    },
    {
      "cell_type": "code",
      "metadata": {
        "id": "mKBWbqXPgm6W",
        "outputId": "071bcd62-f04a-4f0e-bf87-a8759e813cc9",
        "colab": {
          "base_uri": "https://localhost:8080/",
          "height": 777
        }
      },
      "source": [
        "train_losses = []\n",
        "val_losses = []\n",
        "select_epoch_from = 1000\n",
        "# for i in range(0, len(lrs)):\n",
        "#     print(\"Learning rate: \" + str(lrs[i]))\n",
        "epochs = []\n",
        "with tf.Session() as sess: \n",
        "    sess.run(init)\n",
        "    #Training epoch\n",
        "    start_time = time.clock()\n",
        "\n",
        "    possible_indices = list(range(0, X_train.shape[0]))\n",
        "  \n",
        "    for epoch in range(number_epochs):\n",
        "        batch_indices = random.sample(possible_indices, batch_size)\n",
        "\n",
        "        batch_X = np.array(X_train[batch_indices])\n",
        "        batch_y = np.array(y_train[batch_indices])\n",
        "\n",
        "        _, train_loss = sess.run([optimizer, loss_func], feed_dict={X_p: batch_X, Y_p: batch_y})\n",
        "\n",
        "        # train_loss = loss_func.eval({X_p: X_train, Y_p: y_train})\n",
        "        val_loss = loss_func.eval({X_p: X_val, Y_p: y_val})\n",
        "\n",
        "        if epoch >= select_epoch_from and epoch % 50 == 0:\n",
        "            train_losses.append(train_loss)\n",
        "            val_losses.append(val_loss)\n",
        "            epochs.append(epoch)\n",
        "\n",
        "        #Display the epoch\n",
        "        if epoch % 1000 == 0:\n",
        "            # if epoch >= select_epoch_from:\n",
        "            #     train_losses.append(train_loss)\n",
        "            #     val_losses.append(val_loss)\n",
        "            #     epochs.append(epoch)\n",
        "            print(\"Epoch: %d, \"\n",
        "                  \"Training loss: %s, \"\n",
        "                  \"Validation loss: %s, \" % (epoch, train_loss, val_loss))\n",
        "    end_time = time.clock()\n",
        "    print(\"The totoal training time is: \" + str(end_time-start_time))\n",
        "\n",
        "    pyplot.plot(epochs, train_losses, 'r', label='Training loss', linewidth=1, linestyle='-')\n",
        "    pyplot.plot(epochs, val_losses, 'b', label='Validation loss', linewidth=3, linestyle='-.')\n",
        "    pyplot.xlabel('Epoch') \n",
        "    pyplot.ylabel('Loss')\n",
        "    pyplot.title('Training and validation loss')\n",
        "    pyplot.legend()\n",
        "    pyplot.figure()\n",
        "    \n",
        "    # Test model\n",
        "    pred = (neural_network) \n",
        "    output=neural_network.eval({X_p: X_test}) \n",
        "\n",
        "    # plot prediction and labels\n",
        "    pyplot.plot(y_test[0:500], 'ro', label='Testing labels')\n",
        "    pyplot.plot(output[0:500], 'bo', label='Predictions')\n",
        "    pyplot.xlabel('Instances') \n",
        "    pyplot.ylabel('Average_log(PM2.5 + 1)')\n",
        "    pyplot.title('Partial Predictions and labels')\n",
        "    pyplot.show()\n",
        "\n",
        "    # final RMSE\n",
        "    rmse_score = sess.run(eval_RMSE,feed_dict={X_p:X_test,Y_p:y_test})\n",
        "    print(\"Average RMSE: \" + str(rmse_score))"
      ],
      "execution_count": 156,
      "outputs": [
        {
          "output_type": "stream",
          "text": [
            "Epoch: 0, Training loss: 1351.1163, Validation loss: 8376.196, \n",
            "Epoch: 1000, Training loss: 1.0256703, Validation loss: 1.0193131, \n",
            "Epoch: 2000, Training loss: 0.96647376, Validation loss: 1.0192689, \n",
            "Epoch: 3000, Training loss: 1.0294489, Validation loss: 1.0192562, \n",
            "Epoch: 4000, Training loss: 0.98484623, Validation loss: 1.0194697, \n",
            "Epoch: 5000, Training loss: 1.0299277, Validation loss: 1.0194299, \n",
            "Epoch: 6000, Training loss: 1.047687, Validation loss: 1.0194223, \n",
            "Epoch: 7000, Training loss: 1.0306365, Validation loss: 1.0192447, \n",
            "Epoch: 8000, Training loss: 1.0126666, Validation loss: 1.0194979, \n",
            "Epoch: 9000, Training loss: 1.0270522, Validation loss: 1.0193235, \n",
            "The totoal training time is: 41.676975000000084\n"
          ],
          "name": "stdout"
        },
        {
          "output_type": "display_data",
          "data": {
            "image/png": "[encoded data removed]",
            "text/plain": [
              "<Figure size 432x288 with 1 Axes>"
            ]
          },
          "metadata": {
            "tags": [],
            "needs_background": "light"
          }
        },
        {
          "output_type": "display_data",
          "data": {
            "image/png": "[encoded data removed]",
            "text/plain": [
              "<Figure size 432x288 with 1 Axes>"
            ]
          },
          "metadata": {
            "tags": [],
            "needs_background": "light"
          }
        },
        {
          "output_type": "stream",
          "text": [
            "Average RMSE: 1.0187366\n"
          ],
          "name": "stdout"
        }
      ]
    }
  ]
}