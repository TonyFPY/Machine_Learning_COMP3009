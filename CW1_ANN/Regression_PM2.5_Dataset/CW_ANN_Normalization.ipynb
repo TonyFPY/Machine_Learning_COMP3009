{
  "nbformat": 4,
  "nbformat_minor": 0,
  "metadata": {
    "colab": {
      "name": "Copy of CW_ANN.ipynb",
      "provenance": [],
      "collapsed_sections": []
    },
    "kernelspec": {
      "name": "python3",
      "display_name": "Python 3"
    }
  },
  "cells": [
    {
      "cell_type": "code",
      "metadata": {
        "id": "rk8rYQqc2-wA",
        "outputId": "46197a3b-deb8-496e-8047-04f7260e033c",
        "colab": {
          "base_uri": "https://localhost:8080/"
        }
      },
      "source": [
        "import os\n",
        "from google.colab import drive\n",
        "drive.mount('/content/drive', force_remount=True)"
      ],
      "execution_count": 339,
      "outputs": [
        {
          "output_type": "stream",
          "text": [
            "Mounted at /content/drive\n"
          ],
          "name": "stdout"
        }
      ]
    },
    {
      "cell_type": "code",
      "metadata": {
        "id": "5pgzOumR3CTj",
        "outputId": "e44dcf7c-5df2-4860-ee34-1e0146eaa261",
        "colab": {
          "base_uri": "https://localhost:8080/"
        }
      },
      "source": [
        "import numpy as np\n",
        "import pandas as pd\n",
        "import time\n",
        "import pickle\n",
        "import matplotlib.pyplot as plt\n",
        "import warnings\n",
        "\n",
        "warnings.filterwarnings(\"ignore\")\n",
        "%matplotlib inline\n",
        "\n",
        "%tensorflow_version 1.0.0\n",
        "import tensorflow as tf\n",
        "print(tf.__version__)"
      ],
      "execution_count": 340,
      "outputs": [
        {
          "output_type": "stream",
          "text": [
            "DEBUG:matplotlib.pyplot:Loaded backend module://ipykernel.pylab.backend_inline version unknown.\n"
          ],
          "name": "stderr"
        },
        {
          "output_type": "stream",
          "text": [
            "`%tensorflow_version` only switches the major version: 1.x or 2.x.\n",
            "You set: `1.0.0`. This will be interpreted as: `1.x`.\n",
            "\n",
            "\n",
            "TensorFlow is already loaded. Please restart the runtime to change versions.\n",
            "1.15.2\n"
          ],
          "name": "stdout"
        }
      ]
    },
    {
      "cell_type": "code",
      "metadata": {
        "id": "DC33yo3w3EI-",
        "outputId": "32a6315f-79e4-4c1a-8751-9d5ff49eacff",
        "colab": {
          "base_uri": "https://localhost:8080/"
        }
      },
      "source": [
        "print(\"TensorFlow Version: %s\" % tf.__version__)"
      ],
      "execution_count": 341,
      "outputs": [
        {
          "output_type": "stream",
          "text": [
            "TensorFlow Version: 1.15.2\n"
          ],
          "name": "stdout"
        }
      ]
    },
    {
      "cell_type": "code",
      "metadata": {
        "id": "zF9WMxTq3L-x"
      },
      "source": [
        "import numpy as np\n",
        "import tensorflow as tf\n",
        "import math\n",
        "import logging\n",
        "logging.basicConfig(level=logging.DEBUG)\n",
        "import matplotlib.pyplot as plt\n",
        "\n",
        "from sklearn.model_selection import train_test_split"
      ],
      "execution_count": 342,
      "outputs": []
    },
    {
      "cell_type": "code",
      "metadata": {
        "id": "HYA_6heF3NIA"
      },
      "source": [
        "#Network parameters\n",
        "n_hidden1 = 10\n",
        "n_hidden2 = 10\n",
        "n_input = 10\n",
        "n_output = 1\n",
        "#Learning parameters\n",
        "learning_constant = 0.0001\n",
        "number_epochs = 5000\n",
        "batch_size = 1000"
      ],
      "execution_count": 343,
      "outputs": []
    },
    {
      "cell_type": "code",
      "metadata": {
        "id": "Y7AKl_fm3QHf"
      },
      "source": [
        "#Defining the input and the output\n",
        "X = tf.placeholder(\"float\", [None, n_input])\n",
        "Y = tf.placeholder(\"float\", [None, n_output])\n",
        "#DEFINING WEIGHTS AND BIASES\n",
        "#Biases first hidden layer\n",
        "b1 = tf.Variable(tf.random_normal([n_hidden1]))\n",
        "#Biases second hidden layer\n",
        "b2 = tf.Variable(tf.random_normal([n_hidden2]))\n",
        "#Biases output layer\n",
        "b3 = tf.Variable(tf.random_normal([n_output]))\n",
        "#Weights connecting input layer with first hidden layer\n",
        "w1 = tf.Variable(tf.random_normal([n_input, n_hidden1]))\n",
        "#Weights connecting first hidden layer with second hidden layer\n",
        "w2 = tf.Variable(tf.random_normal([n_hidden1, n_hidden2]))\n",
        "#Weights connecting second hidden layer with output layer\n",
        "w3 = tf.Variable(tf.random_normal([n_hidden2, n_output]))"
      ],
      "execution_count": 344,
      "outputs": []
    },
    {
      "cell_type": "code",
      "metadata": {
        "id": "ZrtxSzwF3USw"
      },
      "source": [
        "def multilayer_perceptron(input_d):\n",
        "  #Task of neurons of first hidden layer\n",
        "  layer_1 = tf.nn.sigmoid(tf.add(tf.matmul(input_d, w1), b1))\n",
        "  #Task of neurons of second hidden layer\n",
        "  layer_2 = tf.nn.sigmoid(tf.add(tf.matmul(layer_1, w2), b2))\n",
        "  #Task of neurons of output layer\n",
        "  out_layer = tf.add(tf.matmul(layer_2, w3),b3)\n",
        "  return out_layer"
      ],
      "execution_count": 345,
      "outputs": []
    },
    {
      "cell_type": "code",
      "metadata": {
        "id": "ABh0TPgp3X0l"
      },
      "source": [
        "#Create model\n",
        "neural_network = multilayer_perceptron(X)"
      ],
      "execution_count": 346,
      "outputs": []
    },
    {
      "cell_type": "code",
      "metadata": {
        "id": "XGtdPSGo3ZnE"
      },
      "source": [
        "#Define loss and optimizer\n",
        "loss_op = tf.reduce_mean(tf.math.squared_difference(neural_network,Y))\n",
        "#loss_op =tf.reduce_mean(tf.nn.softmax_cross_entropy_with_logits(logits=neural_network,labels=Y))\n",
        "optimizer= tf.train.GradientDescentOptimizer(learning_constant).minimize(loss_op)"
      ],
      "execution_count": 347,
      "outputs": []
    },
    {
      "cell_type": "code",
      "metadata": {
        "id": "xv6Z4h-I3caA"
      },
      "source": [
        "#Initializing the variables\n",
        "init = tf.global_variables_initializer()"
      ],
      "execution_count": 348,
      "outputs": []
    },
    {
      "cell_type": "code",
      "metadata": {
        "id": "nYrcGL7zNBjH"
      },
      "source": [
        "import numpy as np\n",
        "import pandas as pd\n",
        "import datetime\n",
        "\n",
        "def PM2Dot5():\n",
        "    path = '/content/drive/My Drive/Colab Notebooks/ML/PRSA_data_2010.1.1-2014.12.31.csv'\n",
        "    # names = ['No','year','month','day','hour','pm2.5','DEWP','TEMP','PRES','cbwd','Iws','Is','Ir']\n",
        "    df = pd.read_csv(path,index_col=False)\n",
        "\n",
        "    # drop the rows directly -> mess up the order\n",
        "    # first 24 rows have pm2.5 value that is NaN -> discard\n",
        "    # else: forward filling\n",
        "    df = df[24:].fillna(method='ffill')\n",
        "\n",
        "    df['time'] = df.apply(lambda x : datetime.datetime(year=x['year'], month=x['month'], day=x['day'], hour=x['hour']), axis=1)\n",
        "    df.drop(columns=['year', 'month', 'day', 'hour', 'No'], inplace=True)\n",
        "    df = df.set_index('time')\n",
        "\n",
        "    # one-hot encoding for attribute cbwd\n",
        "    df = df.join(pd.get_dummies(df['cbwd']))\n",
        "    del df['cbwd']\n",
        "\n",
        "\n",
        "    X = df.iloc[:,1:].astype(np.float64)\n",
        "    y = df['pm2.5'].astype(np.float64)\n",
        "\n",
        "    return X, y.to_frame()\n",
        "\n"
      ],
      "execution_count": 349,
      "outputs": []
    },
    {
      "cell_type": "code",
      "metadata": {
        "id": "4mecpkAdNCMV"
      },
      "source": [
        "X_source,y_source = PM2Dot5()\n",
        "\n",
        "X_train, X_test, y_train, y_test = train_test_split(X_source.values, y_source.values, test_size=0.4,shuffle=True)"
      ],
      "execution_count": 350,
      "outputs": []
    },
    {
      "cell_type": "code",
      "metadata": {
        "id": "JfFsfYWF22EJ",
        "outputId": "3e40c5f3-1a59-473f-8c25-238536375c93",
        "colab": {
          "base_uri": "https://localhost:8080/"
        }
      },
      "source": [
        "y_train"
      ],
      "execution_count": 351,
      "outputs": [
        {
          "output_type": "execute_result",
          "data": {
            "text/plain": [
              "array([[  9.],\n",
              "       [126.],\n",
              "       [ 19.],\n",
              "       ...,\n",
              "       [172.],\n",
              "       [ 16.],\n",
              "       [  7.]])"
            ]
          },
          "metadata": {
            "tags": []
          },
          "execution_count": 351
        }
      ]
    },
    {
      "cell_type": "code",
      "metadata": {
        "id": "bR9gWPOT2OK_"
      },
      "source": [
        "## load MinMaxScaler\n",
        "from sklearn.preprocessing import MinMaxScaler\n",
        "scaler = MinMaxScaler()\n",
        "X_train= scaler.fit_transform(X_train.astype(np.float64))\n",
        "y_train= scaler.fit_transform(y_train.astype(np.float64))"
      ],
      "execution_count": 352,
      "outputs": []
    },
    {
      "cell_type": "code",
      "metadata": {
        "id": "UD9xYVG93jsU",
        "outputId": "04069b59-bff2-4227-fd61-0c9af136139f",
        "colab": {
          "base_uri": "https://localhost:8080/",
          "height": 1000
        }
      },
      "source": [
        "with tf.Session() as sess:\n",
        "  start_time = time.clock()\n",
        "  sess.run(init)\n",
        "  #Training epoch\n",
        "  for epoch in range(number_epochs):\n",
        "    sess.run(optimizer, feed_dict={X: X_train, Y: y_train})\n",
        "    #Display the epoch\n",
        "    if epoch % 100 == 0:\n",
        "      print(\"Epoch:\", '%d' % (epoch),' ','Loss = ' + str(sess.run(loss_op, feed_dict={X: X_train, Y: y_train})))\n",
        "      # print(\"Epoch:\", '%d' % (epoch))\n",
        "      # print('Loss = ' + str(sess.run(loss_op, feed_dict={X: X_train, Y: y_train})))\n",
        "\n",
        "  end_time = time.clock()\n",
        "  # Test model\n",
        "  pred = (neural_network) # Apply softmax to logits\n",
        "  accuracy=tf.keras.losses.MSE(pred,Y)\n",
        "  print(\"Accuracy:\", accuracy.eval({X: X_train, Y:y_train}))\n",
        "\n",
        "  print(\"Prediction:\", pred.eval({X: X_train}))\n",
        "\n",
        "  print(\"Training time:\",'%d' % (end_time-start_time))\n",
        "  output=neural_network.eval({X: X_train})\n",
        "  plt.plot(y_train[0:10], 'ro', output[0:10], 'bo')\n",
        "  plt.ylabel('some numbers')\n",
        "  plt.show()\n",
        " "
      ],
      "execution_count": 353,
      "outputs": [
        {
          "output_type": "stream",
          "text": [
            "Epoch: 0   Loss = 5.297152\n",
            "Epoch: 100   Loss = 3.85471\n",
            "Epoch: 200   Loss = 2.8112056\n",
            "Epoch: 300   Loss = 2.0584981\n",
            "Epoch: 400   Loss = 1.5168878\n",
            "Epoch: 500   Loss = 1.1279211\n",
            "Epoch: 600   Loss = 0.8489606\n",
            "Epoch: 700   Loss = 0.6490551\n",
            "Epoch: 800   Loss = 0.5058381\n",
            "Epoch: 900   Loss = 0.40319955\n",
            "Epoch: 1000   Loss = 0.3295668\n",
            "Epoch: 1100   Loss = 0.27664894\n",
            "Epoch: 1200   Loss = 0.23851445\n",
            "Epoch: 1300   Loss = 0.21092397\n",
            "Epoch: 1400   Loss = 0.19085275\n",
            "Epoch: 1500   Loss = 0.17614286\n",
            "Epoch: 1600   Loss = 0.16525677\n",
            "Epoch: 1700   Loss = 0.15709782\n",
            "Epoch: 1800   Loss = 0.1508862\n",
            "Epoch: 1900   Loss = 0.1460652\n",
            "Epoch: 2000   Loss = 0.14223997\n",
            "Epoch: 2100   Loss = 0.13912839\n",
            "Epoch: 2200   Loss = 0.13652946\n",
            "Epoch: 2300   Loss = 0.13430008\n",
            "Epoch: 2400   Loss = 0.13233948\n",
            "Epoch: 2500   Loss = 0.13057442\n",
            "Epoch: 2600   Loss = 0.12895365\n",
            "Epoch: 2700   Loss = 0.12743989\n",
            "Epoch: 2800   Loss = 0.12600711\n",
            "Epoch: 2900   Loss = 0.12463704\n",
            "Epoch: 3000   Loss = 0.12331592\n",
            "Epoch: 3100   Loss = 0.12203403\n",
            "Epoch: 3200   Loss = 0.12078361\n",
            "Epoch: 3300   Loss = 0.11956096\n",
            "Epoch: 3400   Loss = 0.11836166\n",
            "Epoch: 3500   Loss = 0.11718283\n",
            "Epoch: 3600   Loss = 0.11602458\n",
            "Epoch: 3700   Loss = 0.1148847\n",
            "Epoch: 3800   Loss = 0.113760576\n",
            "Epoch: 3900   Loss = 0.112652056\n",
            "Epoch: 4000   Loss = 0.11155911\n",
            "Epoch: 4100   Loss = 0.11048107\n",
            "Epoch: 4200   Loss = 0.109418\n",
            "Epoch: 4300   Loss = 0.108368546\n",
            "Epoch: 4400   Loss = 0.107332654\n",
            "Epoch: 4500   Loss = 0.10630935\n",
            "Epoch: 4600   Loss = 0.10529867\n",
            "Epoch: 4700   Loss = 0.10430029\n",
            "Epoch: 4800   Loss = 0.10331591\n",
            "Epoch: 4900   Loss = 0.10234481\n",
            "Accuracy: [1.9391885e-03 1.3934322e-01 8.0512970e-04 ... 1.2500402e-01 1.8652972e-05\n",
            " 5.2823136e-03]\n",
            "Prediction: [[ 0.05209261]\n",
            " [-0.24740589]\n",
            " [ 0.0465017 ]\n",
            " ...\n",
            " [ 0.5257645 ]\n",
            " [ 0.01078683]\n",
            " [ 0.07872182]]\n",
            "Training time: 65\n"
          ],
          "name": "stdout"
        },
        {
          "output_type": "display_data",
          "data": {
            "image/png": "[encoded data removed]",
            "text/plain": [
              "<Figure size 432x288 with 1 Axes>"
            ]
          },
          "metadata": {
            "tags": [],
            "needs_background": "light"
          }
        }
      ]
    }
  ]
}