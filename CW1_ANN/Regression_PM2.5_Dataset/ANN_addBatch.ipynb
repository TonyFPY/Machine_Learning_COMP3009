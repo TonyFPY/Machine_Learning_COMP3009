{
  "nbformat": 4,
  "nbformat_minor": 0,
  "metadata": {
    "colab": {
      "name": "Untitled2.ipynb",
      "provenance": [],
      "collapsed_sections": []
    },
    "kernelspec": {
      "name": "python3",
      "display_name": "Python 3"
    }
  },
  "cells": [
    {
      "cell_type": "code",
      "metadata": {
        "id": "NREFMun6SixE",
        "outputId": "8a9dfd7a-6de8-4672-8a7e-693cffb9a18b",
        "colab": {
          "base_uri": "https://localhost:8080/"
        }
      },
      "source": [
        "import os\n",
        "from google.colab import drive\n",
        "drive.mount('/content/drive', force_remount=True)"
      ],
      "execution_count": 183,
      "outputs": [
        {
          "output_type": "stream",
          "text": [
            "Mounted at /content/drive\n"
          ],
          "name": "stdout"
        }
      ]
    },
    {
      "cell_type": "code",
      "metadata": {
        "id": "derFy8F5Sn_t",
        "outputId": "eb4825a4-7148-42bf-b8da-56d9e016e691",
        "colab": {
          "base_uri": "https://localhost:8080/"
        }
      },
      "source": [
        "import numpy as np\n",
        "import pandas as pd\n",
        "import time\n",
        "import pickle\n",
        "import math\n",
        "import random\n",
        "from sklearn.metrics import mean_squared_error\n",
        "import matplotlib.pyplot as plt\n",
        "import warnings\n",
        "\n",
        "warnings.filterwarnings(\"ignore\")\n",
        "%matplotlib inline\n",
        "\n",
        "%tensorflow_version 1.0.0\n",
        "import tensorflow as tf\n",
        "print(tf.__version__)"
      ],
      "execution_count": 184,
      "outputs": [
        {
          "output_type": "stream",
          "text": [
            "`%tensorflow_version` only switches the major version: 1.x or 2.x.\n",
            "You set: `1.0.0`. This will be interpreted as: `1.x`.\n",
            "\n",
            "\n",
            "TensorFlow is already loaded. Please restart the runtime to change versions.\n",
            "1.15.2\n"
          ],
          "name": "stdout"
        }
      ]
    },
    {
      "cell_type": "code",
      "metadata": {
        "id": "BnJbOFO2SqFo"
      },
      "source": [
        "import pandas as pd\n",
        "import numpy as np\n",
        "import datetime\n",
        "import time\n",
        "from matplotlib import pyplot\n",
        "\n",
        "# read data from csv file and process X, y\n",
        "def data_loader(data_path):\n",
        "    # load raw data\n",
        "    df = pd.read_csv(data_path)\n",
        "\n",
        "    # clean data with missing values          \n",
        "    '''drop the rows directly -> mess up the order\n",
        "        first 24 rows have pm2.5 value that is NaN -> discard\n",
        "        else: forward filling'''\n",
        "    df = df[24:].fillna(method='ffill')\n",
        "\n",
        "    # integrate 'year', 'month', 'day', 'hour', 'No' as one attribute\n",
        "    df['time'] = df.apply(lambda x : datetime.datetime(year=x['year'], month=x['month'], day=x['day'], hour=x['hour']), axis=1)\n",
        "    df.drop(columns=['year', 'month', 'day', 'hour', 'No'], inplace=True)\n",
        "    df = df.set_index('time')\n",
        "\n",
        "    # expand \"cbwd\" into 4 attributes 'SE', 'cv', 'NW', 'NE'\n",
        "    df = df.join(pd.get_dummies(df['cbwd'])) # one-hot encoding\n",
        "    del df['cbwd']\n",
        "\n",
        "    # df = df.drop('cbwd', axis = 1) # remove the attribute temporarily\n",
        "\n",
        "    X = df.iloc[:,1:].astype(np.float32)\n",
        "    y = df['pm2.5'].astype(np.float32).to_frame()\n",
        "\n",
        "    return X, y\n",
        "\n",
        "# split the data into train, val and test set\n",
        "from sklearn.model_selection import train_test_split\n",
        "def train_test_val_split(data, ratio_train, ratio_test, ratio_val):\n",
        "    X_train, X_middle, y_train, y_middle = train_test_split(data[0], data[1], train_size=ratio_train, test_size=ratio_test + ratio_val, shuffle=True)\n",
        "    ratio = ratio_val/(1-ratio_train)\n",
        "    X_val, X_test, y_val, y_test = train_test_split(X_middle, y_middle, train_size=ratio, shuffle=True)\n",
        "    return (X_train, y_train),(X_val, y_val),(X_test, y_test)\n",
        "\n",
        "# Z-score normalisation\n",
        "def data_normalisation(train, val, test):\n",
        "    X_train, y_train = train[0], train[1]\n",
        "    X_val, y_val = val[0], val[1]\n",
        "    X_test, y_test = test[0], test[1]\n",
        "\n",
        "    mean_x, std_x = X_train.mean(axis=0), X_train.std(axis=0)\n",
        "    mean_y, std_y = y_train.mean(axis=0), y_train.std(axis=0)\n",
        "\n",
        "    # Use the mean & std of train. Since there's no way for us to know the future.\n",
        "    (X_train, y_train) = ((X_train-mean_x)/std_x, (y_train-mean_y)/std_y)\n",
        "    (X_val, y_val) = ((X_val-mean_x)/std_x, (y_val-mean_y)/std_y) \n",
        "    (X_test, y_test) = ((X_test-mean_x)/std_x, (y_test-mean_y)/std_y)\n",
        "\n",
        "    return (X_train, y_train),(X_val, y_val),(X_test, y_test)\n",
        "\n",
        "data_path = path = '/content/drive/My Drive/Colab Notebooks/ML/PRSA_data_2010.1.1-2014.12.31.csv'\n",
        "X, y = data_loader(data_path)\n",
        "\n",
        "(X_train, y_train),(X_val, y_val),(X_test, y_test) = train_test_val_split((X.values, y.values), 0.8, 0.1, 0.1)\n",
        "(X_train, y_train),(X_val, y_val),(X_test, y_test) = data_normalisation((X_train, y_train),(X_val, y_val),(X_test, y_test))\n",
        "\n",
        "# X_train.shape, y_train.shape, X_test.shape, y_test.shape, X_val.shape, y_val.shape\n"
      ],
      "execution_count": 185,
      "outputs": []
    },
    {
      "cell_type": "code",
      "metadata": {
        "id": "jTxfj5uuZFl8"
      },
      "source": [
        "# data_path = path = '/content/drive/My Drive/Colab Notebooks/ML/PRSA_data_2010.1.1-2014.12.31.csv'\n",
        "# X, y = data_loader(data_path)\n",
        "\n",
        "# X"
      ],
      "execution_count": 186,
      "outputs": []
    },
    {
      "cell_type": "code",
      "metadata": {
        "id": "aUxb6Ad7St-s"
      },
      "source": [
        "#Network parameters\n",
        "n_input = 10 # 6\n",
        "n_hidden1, n_hidden2, n_hidden3 = 10, 20, 10\n",
        "n_output = 1\n",
        "#Learning parameters \n",
        "learning_rate = 0.0001\n",
        "number_epochs = 10000\n",
        "mini_batch_size=20\n",
        "\n",
        "#Defining the input and the output\n",
        "X_p = tf.placeholder(\"float\", [None, n_input]) \n",
        "Y_p = tf.placeholder(\"float\", [None, n_output])\n",
        "\n",
        "# forward\n",
        "def multilayer_perceptron(input_d):\n",
        "    #DEFINING WEIGHTS AND BIASES\n",
        "    b1 = tf.Variable(tf.random_normal([n_hidden1])) #Biases first hidden layer\n",
        "    b2 = tf.Variable(tf.random_normal([n_hidden2])) #Biases second hidden layer\n",
        "    b3 = tf.Variable(tf.random_normal([n_hidden3])) #Biases third hidden layer\n",
        "    b4 = tf.Variable(tf.random_normal([n_output]))  #Biases output layer\n",
        "    \n",
        "    w1 = tf.Variable(tf.random_normal([n_input, n_hidden1]))   #Weights connecting input layer with first hidden layer\n",
        "    w2 = tf.Variable(tf.random_normal([n_hidden1, n_hidden2])) #Weights connecting first hidden layer with second hidden layer \n",
        "    w3 = tf.Variable(tf.random_normal([n_hidden2, n_hidden3])) #Weights connecting second hidden layer with third layer\n",
        "    w4 = tf.Variable(tf.random_normal([n_hidden3, n_output]))  #Weights connecting third hidden layer with output layer\n",
        "\n",
        "    layer_1 = tf.nn.relu(tf.add(tf.matmul(input_d, w1), b1)) #Task of neurons of first hidden layer\n",
        "    layer_2 = tf.nn.relu(tf.add(tf.matmul(layer_1, w2), b2)) #Task of neurons of second hidden layer\n",
        "    layer_3 = tf.nn.relu(tf.add(tf.matmul(layer_2, w3), b3)) #Task of neurons of thrid layer\n",
        "    out_layer = tf.add(tf.matmul(layer_3, w4),b4)            #Task of neurons of output layer\n",
        "    \n",
        "    return out_layer\n",
        "\n",
        "# create model\n",
        "neural_network = multilayer_perceptron(X_p)\n",
        "# define loss function\n",
        "loss_op = tf.reduce_mean(tf.math.squared_difference(neural_network,Y_p))\n",
        "# define optimizer\n",
        "optimizer = tf.train.GradientDescentOptimizer(learning_rate).minimize(loss_op)\n",
        "\n",
        "correct_prediction = tf.equal(tf.argmax(neural_network,1), tf.argmax(Y_p,1))\n",
        "accuracy = tf.reduce_mean(tf.cast(correct_prediction,tf.float32))\n",
        "# error = np.sqrt(mean_squared_error(neural_network, Y_p))\n",
        "\n",
        "# initializaing variables\n",
        "init = tf.global_variables_initializer()"
      ],
      "execution_count": 187,
      "outputs": []
    },
    {
      "cell_type": "code",
      "metadata": {
        "id": "9S2jCA3rZB4C"
      },
      "source": [
        "def smooth_loss(epoch,losses,weight=0.85):\n",
        "    iter = epoch\n",
        "    loss = losses\n",
        "\n",
        "    last = loss[0]\n",
        "    smoothed = []\n",
        "    for point in loss:\n",
        "        smoothed_val = last * weight + (1 - weight) * point\n",
        "        smoothed.append(smoothed_val)\n",
        "        last = smoothed_val\n",
        "    return iter, smoothed"
      ],
      "execution_count": 188,
      "outputs": []
    },
    {
      "cell_type": "code",
      "metadata": {
        "id": "UkONM74Gaq9_",
        "outputId": "59279320-3eb3-42a3-db20-997100e6c1b4",
        "colab": {
          "base_uri": "https://localhost:8080/"
        }
      },
      "source": [
        "neural_network"
      ],
      "execution_count": 189,
      "outputs": [
        {
          "output_type": "execute_result",
          "data": {
            "text/plain": [
              "<tf.Tensor 'Add_99:0' shape=(?, 1) dtype=float32>"
            ]
          },
          "metadata": {
            "tags": []
          },
          "execution_count": 189
        }
      ]
    },
    {
      "cell_type": "markdown",
      "metadata": {
        "id": "xHIKrUtGoerE"
      },
      "source": [
        "- The batch size is a hyperparameter of gradient descent that controls the number of training samples to work through before the model’s internal parameters are updated.\n",
        "- The number of epochs is a hyperparameter of gradient descent that controls the number of complete passes through the training dataset."
      ]
    },
    {
      "cell_type": "markdown",
      "metadata": {
        "id": "0JSe6AAVrmgq"
      },
      "source": [
        "除了梯度本身，批量大小(batchsize)，学习率(learning rate) 这两个因子直接决定了模型的权重更新，从优化本身来看它们是影响模型性能收敛最重要的参数。学习率直接影响模型的收敛状态，batchsize则影响模型的泛化性能，两者又是分子分母的直接关系，相互也可影响，因此这一次来详述它们对模型性能的影响。模型性能对batchsize虽然没有学习率那么敏感，但是在进一步提升模型性能时，batchsize就会成为一个非常关键的参数。\n",
        "\n",
        "- 大的 batchsize 减少训练时间，提高稳定性\n",
        "- 大的 batchsize 导致模型泛化能力下降\n"
      ]
    },
    {
      "cell_type": "code",
      "metadata": {
        "id": "cKdtKrZLSu1H",
        "outputId": "db1f2ee7-84b2-471b-c351-107a71028242",
        "colab": {
          "base_uri": "https://localhost:8080/",
          "height": 1000
        }
      },
      "source": [
        "with tf.Session() as sess: \n",
        "    start_time = time.clock()\n",
        "    sess.run(init)\n",
        "    train_loss = []\n",
        "    test_loss = []\n",
        "    ep = []\n",
        "\n",
        "    #Training epoch\n",
        "\n",
        "    possible_indeces = list(range(0, X_train.shape[0]))\n",
        "    batch_size = 100\n",
        "\n",
        "    for epoch in range(number_epochs):\n",
        "\n",
        "        batch_indeces = random.sample(possible_indeces, batch_size)\n",
        "      \n",
        "        #get features and respective labels\n",
        "        batch_X = np.array(X_train[batch_indeces])\n",
        "        batch_Y = np.array(y_train[batch_indeces])\n",
        "\n",
        "        sess.run(optimizer, feed_dict={X_p: batch_X, Y_p: batch_Y})\n",
        "        #Display the epoch\n",
        "        if epoch % 100 == 0:\n",
        "            train_acc = accuracy.eval (session = sess, feed_dict = {X_p:batch_X,Y_p:batch_Y})\n",
        "            val_acc = sess.run(accuracy,feed_dict={X_p:X_val,Y_p:y_val})\n",
        "            # print(\"After %d training steps, \"\n",
        "            #       \"train accuracy is %s, \" \n",
        "            #       \"validation accuracy is %s \" % (epoch, train_acc, val_acc))\n",
        "            tn_loss = str(sess.run(loss_op, feed_dict={X_p: batch_X, Y_p: batch_Y}))\n",
        "            tt_loss = str(sess.run(loss_op, feed_dict={X_p: X_test, Y_p: y_test}))\n",
        "            ep.append(epoch)\n",
        "            train_loss.append(float(tn_loss))\n",
        "            test_loss.append(float(tt_loss))\n",
        " \n",
        "            print(\"Epoch:\" + str(epoch) + \" Training Loss:\" + tn_loss + \" Test Loss:\" + tt_loss )\n",
        "    end_time = time.clock()\n",
        "    print(\"The totoal training time is: \" + str(end_time-start_time))\n",
        "    \n",
        "    # Test model\n",
        "    pred = (neural_network) # Apply softmax to logits \n",
        "    # accuracy=tf.keras.losses.MSE(pred,y_test) \n",
        "    # print(\"Accuracy:\", accuracy.eval({X: batch_x_train, Y: batch_y_train})) \n",
        "    # #tf.keras.evaluate(pred,batch_x)\n",
        "    # print(\"Prediction:\", pred.eval({X: batch_x_train})) \n",
        "    \n",
        "    output=neural_network.eval({X_p: X_test}) \n",
        "    pyplot.plot(y_test[0:200], 'ro', output[0:200], 'bo')\n",
        "    pyplot.xlabel('Instances') \n",
        "    pyplot.ylabel('Normalised PM2.5')\n",
        "    pyplot.show()\n",
        "\n",
        "    iter, train_loss = smooth_loss(ep,train_loss)\n",
        "    iter, test_loss = smooth_loss(ep,test_loss)\n",
        "    \n",
        "\n",
        "    plt.plot(iter, train_loss, color='red', label='training loss',linewidth=1)\n",
        "    plt.plot(iter, test_loss, color='blue', label='testing loss',linewidth=1)  \n",
        "    plt.title(\"Loss-epoches\", fontsize=14)\n",
        "    plt.xlabel(\"epoch\", fontsize=14)\n",
        "    plt.ylabel(\"loss\", fontsize=14)\n",
        "    plt.tick_params(axis='both', labelsize=14)\n",
        "    # plt.savefig('./loss_func.png')\n",
        "    plt.legend()\n",
        "    plt.show()\n",
        "\n",
        "    # estimated_class=tf.argmax(pred, 1)#+1e-50-1e-50\n",
        "    # correct_prediction1 = tf.equal(tf.argmax(pred, 1),y_test)\n",
        "    # accuracy1 = tf.reduce_mean(tf.cast(correct_prediction1, tf.float32))\n",
        "    # print(\"Average precison: \" + str(accuracy1.eval({X_p: X_test})))\n",
        "\n",
        "    accuracy_score = sess.run(accuracy,feed_dict={X_p:X_test,Y_p:y_test})\n",
        "    print(\"Average precison: \" + str(accuracy_score))"
      ],
      "execution_count": 190,
      "outputs": [
        {
          "output_type": "stream",
          "text": [
            "Epoch:0 Training Loss:142.3852 Test Loss:309.35516\n",
            "Epoch:100 Training Loss:16.55383 Test Loss:11.428938\n",
            "Epoch:200 Training Loss:7.4663835 Test Loss:6.5310616\n",
            "Epoch:300 Training Loss:7.4628544 Test Loss:4.6495395\n",
            "Epoch:400 Training Loss:3.8859494 Test Loss:3.637967\n",
            "Epoch:500 Training Loss:3.0529966 Test Loss:3.1019707\n",
            "Epoch:600 Training Loss:3.270411 Test Loss:2.7207658\n",
            "Epoch:700 Training Loss:2.986002 Test Loss:2.3869367\n",
            "Epoch:800 Training Loss:1.9932029 Test Loss:2.147953\n",
            "Epoch:900 Training Loss:1.6046059 Test Loss:1.9771466\n",
            "Epoch:1000 Training Loss:1.7247148 Test Loss:1.8226572\n",
            "Epoch:1100 Training Loss:1.3867631 Test Loss:1.7154045\n",
            "Epoch:1200 Training Loss:1.3384949 Test Loss:1.6120383\n",
            "Epoch:1300 Training Loss:2.497846 Test Loss:1.52898\n",
            "Epoch:1400 Training Loss:1.2140927 Test Loss:1.4629265\n",
            "Epoch:1500 Training Loss:0.89978737 Test Loss:1.4027321\n",
            "Epoch:1600 Training Loss:1.4793798 Test Loss:1.3407726\n",
            "Epoch:1700 Training Loss:0.8591625 Test Loss:1.2864897\n",
            "Epoch:1800 Training Loss:1.1561912 Test Loss:1.2437446\n",
            "Epoch:1900 Training Loss:1.699064 Test Loss:1.2097814\n",
            "Epoch:2000 Training Loss:1.2993351 Test Loss:1.1787091\n",
            "Epoch:2100 Training Loss:0.97280693 Test Loss:1.1512315\n",
            "Epoch:2200 Training Loss:1.3200134 Test Loss:1.126743\n",
            "Epoch:2300 Training Loss:1.523366 Test Loss:1.104959\n",
            "Epoch:2400 Training Loss:1.0357846 Test Loss:1.0855314\n",
            "Epoch:2500 Training Loss:0.8462923 Test Loss:1.0708463\n",
            "Epoch:2600 Training Loss:0.7971979 Test Loss:1.0572661\n",
            "Epoch:2700 Training Loss:0.90457565 Test Loss:1.0420943\n",
            "Epoch:2800 Training Loss:0.9907768 Test Loss:1.0297363\n",
            "Epoch:2900 Training Loss:0.670327 Test Loss:1.0206357\n",
            "Epoch:3000 Training Loss:0.9083062 Test Loss:1.0094676\n",
            "Epoch:3100 Training Loss:0.85622525 Test Loss:1.0032289\n",
            "Epoch:3200 Training Loss:0.6484718 Test Loss:0.9923402\n",
            "Epoch:3300 Training Loss:0.64803016 Test Loss:0.98651975\n",
            "Epoch:3400 Training Loss:1.035792 Test Loss:0.980624\n",
            "Epoch:3500 Training Loss:0.5562963 Test Loss:0.9739432\n",
            "Epoch:3600 Training Loss:1.3516929 Test Loss:0.97172374\n",
            "Epoch:3700 Training Loss:0.60136575 Test Loss:0.96522236\n",
            "Epoch:3800 Training Loss:0.6161386 Test Loss:0.96087605\n",
            "Epoch:3900 Training Loss:0.75332075 Test Loss:0.958207\n",
            "Epoch:4000 Training Loss:0.7631491 Test Loss:0.95414066\n",
            "Epoch:4100 Training Loss:1.666709 Test Loss:0.95125\n",
            "Epoch:4200 Training Loss:1.1062574 Test Loss:0.9477722\n",
            "Epoch:4300 Training Loss:0.86428106 Test Loss:0.94783986\n",
            "Epoch:4400 Training Loss:0.93679285 Test Loss:0.94448084\n",
            "Epoch:4500 Training Loss:1.5374956 Test Loss:0.94124407\n",
            "Epoch:4600 Training Loss:0.95840645 Test Loss:0.93889207\n",
            "Epoch:4700 Training Loss:1.212955 Test Loss:0.93744314\n",
            "Epoch:4800 Training Loss:0.7171767 Test Loss:0.9374526\n",
            "Epoch:4900 Training Loss:0.8541534 Test Loss:0.9372396\n",
            "Epoch:5000 Training Loss:0.909062 Test Loss:0.93330026\n",
            "Epoch:5100 Training Loss:1.488751 Test Loss:0.9312284\n",
            "Epoch:5200 Training Loss:0.56405574 Test Loss:0.9299395\n",
            "Epoch:5300 Training Loss:1.108745 Test Loss:0.92886955\n",
            "Epoch:5400 Training Loss:0.7217683 Test Loss:0.92743874\n",
            "Epoch:5500 Training Loss:0.79009 Test Loss:0.92695045\n",
            "Epoch:5600 Training Loss:0.70202005 Test Loss:0.9250553\n",
            "Epoch:5700 Training Loss:0.71117646 Test Loss:0.92441505\n",
            "Epoch:5800 Training Loss:0.84372056 Test Loss:0.9220624\n",
            "Epoch:5900 Training Loss:1.072262 Test Loss:0.92136997\n",
            "Epoch:6000 Training Loss:1.6385738 Test Loss:0.920294\n",
            "Epoch:6100 Training Loss:0.85276055 Test Loss:0.91963583\n",
            "Epoch:6200 Training Loss:1.1783437 Test Loss:0.9181987\n",
            "Epoch:6300 Training Loss:1.671216 Test Loss:0.9179718\n",
            "Epoch:6400 Training Loss:0.9789895 Test Loss:0.916851\n",
            "Epoch:6500 Training Loss:1.7105458 Test Loss:0.9163208\n",
            "Epoch:6600 Training Loss:0.761615 Test Loss:0.9160241\n",
            "Epoch:6700 Training Loss:1.0865512 Test Loss:0.91432023\n",
            "Epoch:6800 Training Loss:1.0167689 Test Loss:0.9146604\n",
            "Epoch:6900 Training Loss:1.0061977 Test Loss:0.91362995\n",
            "Epoch:7000 Training Loss:0.85661227 Test Loss:0.91408366\n",
            "Epoch:7100 Training Loss:0.6389613 Test Loss:0.9117808\n",
            "Epoch:7200 Training Loss:0.98823446 Test Loss:0.9118617\n",
            "Epoch:7300 Training Loss:0.819433 Test Loss:0.910142\n",
            "Epoch:7400 Training Loss:0.89987975 Test Loss:0.90962\n",
            "Epoch:7500 Training Loss:0.8789494 Test Loss:0.9088843\n",
            "Epoch:7600 Training Loss:1.5664277 Test Loss:0.9081864\n",
            "Epoch:7700 Training Loss:1.2355849 Test Loss:0.90793246\n",
            "Epoch:7800 Training Loss:0.55615497 Test Loss:0.91188973\n",
            "Epoch:7900 Training Loss:0.5553219 Test Loss:0.90719956\n",
            "Epoch:8000 Training Loss:1.0202668 Test Loss:0.9064296\n",
            "Epoch:8100 Training Loss:0.9825723 Test Loss:0.9074309\n",
            "Epoch:8200 Training Loss:0.56325537 Test Loss:0.9055287\n",
            "Epoch:8300 Training Loss:1.0071793 Test Loss:0.90463716\n",
            "Epoch:8400 Training Loss:1.3562653 Test Loss:0.9040856\n",
            "Epoch:8500 Training Loss:1.1347315 Test Loss:0.90409446\n",
            "Epoch:8600 Training Loss:1.2001448 Test Loss:0.9057898\n",
            "Epoch:8700 Training Loss:0.84279 Test Loss:0.9036427\n",
            "Epoch:8800 Training Loss:0.93104243 Test Loss:0.90251255\n",
            "Epoch:8900 Training Loss:0.83074576 Test Loss:0.9025797\n",
            "Epoch:9000 Training Loss:1.0982629 Test Loss:0.9017947\n",
            "Epoch:9100 Training Loss:0.8964419 Test Loss:0.9010796\n",
            "Epoch:9200 Training Loss:0.7823652 Test Loss:0.9009172\n",
            "Epoch:9300 Training Loss:0.5537698 Test Loss:0.9000596\n",
            "Epoch:9400 Training Loss:0.83185977 Test Loss:0.90006524\n",
            "Epoch:9500 Training Loss:0.6698353 Test Loss:0.90055907\n",
            "Epoch:9600 Training Loss:0.5840305 Test Loss:0.8991017\n",
            "Epoch:9700 Training Loss:1.1410047 Test Loss:0.89839566\n",
            "Epoch:9800 Training Loss:0.3571649 Test Loss:0.9015947\n",
            "Epoch:9900 Training Loss:0.50249046 Test Loss:0.89766735\n",
            "The totoal training time is: 13.765330000000006\n"
          ],
          "name": "stdout"
        },
        {
          "output_type": "display_data",
          "data": {
            "image/png": "[encoded data removed]",
            "text/plain": [
              "<Figure size 432x288 with 1 Axes>"
            ]
          },
          "metadata": {
            "tags": [],
            "needs_background": "light"
          }
        },
        {
          "output_type": "display_data",
          "data": {
            "image/png": "[encoded data removed]",
            "text/plain": [
              "<Figure size 432x288 with 1 Axes>"
            ]
          },
          "metadata": {
            "tags": [],
            "needs_background": "light"
          }
        },
        {
          "output_type": "stream",
          "text": [
            "Average precison: 1.0\n"
          ],
          "name": "stdout"
        }
      ]
    },
    {
      "cell_type": "code",
      "metadata": {
        "id": "yQcIrIJ1lcp5"
      },
      "source": [
        ""
      ],
      "execution_count": 190,
      "outputs": []
    },
    {
      "cell_type": "code",
      "metadata": {
        "id": "m54NWX28dDD6"
      },
      "source": [
        ""
      ],
      "execution_count": 190,
      "outputs": []
    }
  ]
}