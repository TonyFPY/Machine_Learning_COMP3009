{
  "nbformat": 4,
  "nbformat_minor": 0,
  "metadata": {
    "colab": {
      "name": "PM2dot5_try.ipynb",
      "provenance": [],
      "collapsed_sections": []
    },
    "kernelspec": {
      "name": "python3",
      "display_name": "Python 3"
    },
    "accelerator": "GPU"
  },
  "cells": [
    {
      "cell_type": "code",
      "metadata": {
        "id": "FI9Aw4kiiPZ8",
        "outputId": "a84aba33-2c07-4682-898f-cb1cd35a9fbd",
        "colab": {
          "base_uri": "https://localhost:8080/"
        }
      },
      "source": [
        "import os\n",
        "from google.colab import drive\n",
        "drive.mount('/content/drive', force_remount=True)"
      ],
      "execution_count": 8,
      "outputs": [
        {
          "output_type": "stream",
          "text": [
            "Mounted at /content/drive\n"
          ],
          "name": "stdout"
        }
      ]
    },
    {
      "cell_type": "code",
      "metadata": {
        "id": "_DLigeuliVDL",
        "outputId": "bb7adfee-0506-44a0-d1ae-bc3e15ae03e5",
        "colab": {
          "base_uri": "https://localhost:8080/"
        }
      },
      "source": [
        "import numpy as np\n",
        "import pandas as pd\n",
        "import time\n",
        "import pickle\n",
        "import math\n",
        "import random\n",
        "from sklearn.metrics import mean_squared_error\n",
        "from sklearn.metrics import mean_absolute_error\n",
        "import matplotlib.pyplot as plt\n",
        "import warnings\n",
        "\n",
        "warnings.filterwarnings(\"ignore\")\n",
        "%matplotlib inline\n",
        "\n",
        "%tensorflow_version 1.0.0\n",
        "import tensorflow as tf\n",
        "print(tf.__version__)"
      ],
      "execution_count": 9,
      "outputs": [
        {
          "output_type": "stream",
          "text": [
            "`%tensorflow_version` only switches the major version: 1.x or 2.x.\n",
            "You set: `1.0.0`. This will be interpreted as: `1.x`.\n",
            "\n",
            "\n",
            "TensorFlow is already loaded. Please restart the runtime to change versions.\n",
            "1.15.2\n"
          ],
          "name": "stdout"
        }
      ]
    },
    {
      "cell_type": "code",
      "metadata": {
        "id": "gvQsiJMhiXpx"
      },
      "source": [
        "import pandas as pd\n",
        "import numpy as np\n",
        "import datetime\n",
        "import time\n",
        "from matplotlib import pyplot\n",
        "import math\n",
        "import random\n",
        "\n",
        "# read data from csv file and process X, y\n",
        "def data_loader(data_path):\n",
        "\t\t# load raw data\n",
        "\t\tdf = pd.read_csv(data_path)\n",
        "\n",
        "\t\t# clean data with missing values          \n",
        "\t\t'''drop the rows directly -> mess up the order\n",
        "\t\t\tfirst 24 rows have pm2.5 value that is NaN -> discard\n",
        "\t\t\telse: forward filling'''\n",
        "\t\tdf = df[24:].fillna(method='ffill')\n",
        "\n",
        "\t\t# integrate 'year', 'month', 'day', 'hour', 'No' as one attribute\n",
        "\t\tdf['time'] = df.apply(lambda x : datetime.datetime(year=x['year'], month=x['month'], day=x['day'], hour=x['hour']), axis=1)\n",
        "\t\tdf.drop(columns=['year', 'month', 'day', 'hour', 'No'], inplace=True)\n",
        "\t\tdf = df.set_index('time')\n",
        "\n",
        "\t\t# expand \"cbwd\" into 4 attributes 'SE', 'cv', 'NW', 'NE'\n",
        "\t\tdf = df.join(pd.get_dummies(df['cbwd'])) # one-hot encoding\n",
        "\t\tdel df['cbwd']\n",
        "\n",
        "\t\t# df = df.drop('cbwd', axis = 1) # remove the attribute temporarily\n",
        "\n",
        "\t\tX = df.iloc[:,1:].astype(np.float32)\n",
        "\t\ty = df['pm2.5'].astype(np.float32).to_frame()\n",
        "\t\n",
        "\t\treturn X, y\n",
        "\n",
        "# split the data into train, val and test set\n",
        "from sklearn.model_selection import train_test_split\n",
        "def train_test_val_split(data, ratio_train, ratio_test, ratio_val):\n",
        "\t\tX_train, X_middle, y_train, y_middle = train_test_split(data[0], data[1], train_size=ratio_train, test_size=ratio_test + ratio_val, shuffle=True)\n",
        "\t\tratio = ratio_val/(1-ratio_train)\n",
        "\t\tX_val, X_test, y_val, y_test = train_test_split(X_middle, y_middle, train_size=ratio, shuffle=True)\n",
        "\t\treturn (X_train, y_train),(X_val, y_val),(X_test, y_test)\n",
        "\n",
        "# Z-score normalisation\n",
        "def data_normalisation(train, val, test):\n",
        "\t\tX_train, y_train = train[0], train[1]\n",
        "\t\tX_val, y_val = val[0], val[1]\n",
        "\t\tX_test, y_test = test[0], test[1]\n",
        "\n",
        "\t\tmean_x, std_x = X_train.mean(axis=0), X_train.std(axis=0)\n",
        "\t\tmean_y, std_y = y_train.mean(axis=0), y_train.std(axis=0)\n",
        "\t\n",
        "\t\t# Use the mean & std of train. Since there's no way for us to know the future.\n",
        "\t\t(X_train, y_train) = ((X_train-mean_x)/std_x, np.log(np.asarray(y_train) + 1))\n",
        "\t\t(X_val, y_val) = ((X_val-mean_x)/std_x, np.log(np.asarray(y_val) + 1)) \n",
        "\t\t(X_test, y_test) = ((X_test-mean_x)/std_x, np.log(np.asarray(y_test) + 1))\n",
        "\n",
        "\t\treturn (X_train, y_train),(X_val, y_val),(X_test, y_test)\n",
        "\n",
        "data_path = '/content/drive/My Drive/Colab Notebooks/ML/PRSA_data_2010.1.1-2014.12.31.csv'\n",
        "X, y = data_loader(data_path)\n",
        "\n",
        "(X_train, y_train),(X_val, y_val),(X_test, y_test) = train_test_val_split((X.values, y.values), 0.8, 0.1, 0.1)\n",
        "\n",
        "(X_train, y_train),(X_val, y_val),(X_test, y_test) = data_normalisation((X_train, y_train),(X_val, y_val),(X_test, y_test))"
      ],
      "execution_count": 10,
      "outputs": []
    },
    {
      "cell_type": "code",
      "metadata": {
        "id": "72RWzb4UiZFT"
      },
      "source": [
        "#Network parameters\n",
        "n_input = 10 \n",
        "n_hidden1, n_hidden2 = 20, 10\n",
        "n_output = 1\n",
        "#Learning parameters \n",
        "learning_rate = 0.005\n",
        "number_epochs = 20000\n",
        "batch_size = 128\n",
        "\n",
        "#Defining the input and the output\n",
        "X_p = tf.placeholder(\"float\", [None, n_input], name='X_p') \n",
        "Y_p = tf.placeholder(\"float\", [None, n_output], name='Y_p')\n",
        "\n",
        "# forward\n",
        "def multilayer_perceptron(input_d):\n",
        "    #DEFINING WEIGHTS AND BIASES\n",
        "    b1 = tf.Variable(tf.random_normal([n_hidden1])) #Biases first hidden layer\n",
        "    b2 = tf.Variable(tf.random_normal([n_hidden2])) #Biases second hidden layer\n",
        "    b3 = tf.Variable(tf.random_normal([n_output]))  #Biases output layer\n",
        "    \n",
        "    w1 = tf.Variable(tf.random_normal([n_input, n_hidden1]))   #Weights connecting input layer with first hidden layer\n",
        "    w2 = tf.Variable(tf.random_normal([n_hidden1, n_hidden2])) #Weights connecting first hidden layer with second hidden layer \n",
        "    w3 = tf.Variable(tf.random_normal([n_hidden2, n_output]))\n",
        "\n",
        "    layer_1 = tf.nn.softplus(tf.add(tf.matmul(input_d, w1), b1)) #Task of neurons of first hidden layer\n",
        "    layer_2 = tf.nn.softplus(tf.add(tf.matmul(layer_1, w2), b2)) #Task of neurons of second hidden layer\n",
        "\n",
        "    out_layer = tf.add(tf.matmul(layer_2, w3),b3,name='output')            #Task of neurons of output layer\n",
        "    \n",
        "    return out_layer\n",
        "\n",
        "# create model\n",
        "neural_network = multilayer_perceptron(X_p)\n",
        "\n",
        "# Store parameter for NN model\n",
        "tf.add_to_collection('pred_network', neural_network)  \n",
        "\n",
        "# define loss function\n",
        "# There are 2 kinds of loss function in DL. One for mean squared loss function，another for cross entropy loss function.\n",
        "\n",
        "# loss_func = tf.reduce_mean(tf.math.squared_difference(neural_network,Y_p)) # MSE\n",
        "\n",
        "\n",
        "# #RMSE\n",
        "# mse = tf.keras.losses.MeanSquaredError()\n",
        "# loss_func_pre = mse(neural_network,Y_p)\n",
        "# loss_func = tf.cast(tf.sqrt(loss_func_pre),dtype=tf.float32)\n",
        "\n",
        "# # MAE\n",
        "# mae = tf.keras.losses.MeanAbsoluteError()\n",
        "# loss_func = mae(neural_network,Y_p)\n",
        "\n",
        "#MSE\n",
        "mse = tf.keras.losses.MeanSquaredError()\n",
        "loss_func= mse(neural_network,Y_p)\n",
        "# Store parameter for NN model\n",
        "tf.add_to_collection('loss', loss_func) \n",
        "\n",
        "# # MAPE\n",
        "# mape = tf.keras.losses.MeanAbsolutePercentageError()\n",
        "# loss_func = mlse(neural_network,Y_p)\n",
        "\n",
        "# # msle\n",
        "# mlse = tf.keras.losses.MeanSquaredLogarithmicError()\n",
        "# loss_func = mlse(neural_network,Y_p)\n",
        "# # huber loss\n",
        "# huber_loss = tf.keras.losses.Huber()\n",
        "# loss_func = huber_loss(neural_network,Y_p)\n",
        "\n",
        "# loss_func = tf.reduce_mean(tf.nn.softmax_cross_entropy_with_logits_v2(logits=neural_network,labels=Y_p))\n",
        "eval_RMSE = tf.cast(tf.sqrt(loss_func),dtype=tf.float32)\n",
        "\n",
        "# define optimizer\n",
        "optimizer = tf.train.GradientDescentOptimizer(learning_rate).minimize(loss_func)\n",
        "\n",
        "# initializaing variables\n",
        "init = tf.global_variables_initializer()"
      ],
      "execution_count": 11,
      "outputs": []
    },
    {
      "cell_type": "code",
      "metadata": {
        "id": "RvVfoT02VFH6"
      },
      "source": [
        "def train_model():\n",
        "      # def train_model():\n",
        "    train_losses = []\n",
        "    val_losses = []\n",
        "    select_epoch_from = 1000\n",
        "    epochs = []\n",
        "    batch_iteration = int(len(X_train) / batch_size) + 1\n",
        "    bestEpoch=0\n",
        "    least_loss=10\n",
        "\n",
        "    saver = tf.train.Saver()\n",
        "\n",
        "    with tf.Session() as sess: \n",
        "\n",
        "          sess.run(init)\n",
        "          start_time = time.clock() \n",
        "\n",
        "          #Training epoch \n",
        "          for epoch in range(1,number_epochs+1):\n",
        "              \n",
        "              n = epoch % batch_iteration\n",
        "              s = 0 + batch_size * n\n",
        "              if n == 0:\n",
        "                e = len(X_train)\n",
        "              else:\n",
        "                e = batch_size + batch_size * n\n",
        "              \n",
        "              batch_X = np.array(X_train[s:e])\n",
        "              batch_y = np.array(y_train[s:e])\n",
        "\n",
        "              _, train_loss = sess.run([optimizer,loss_func], feed_dict={X_p: batch_X, Y_p: batch_y})\n",
        "\n",
        "              val_loss = loss_func.eval({X_p: X_val, Y_p: y_val})\n",
        "\n",
        "              if epoch >= select_epoch_from and epoch % 100 == 0:\n",
        "                  train_losses.append(train_loss)\n",
        "                  val_losses.append(val_loss)\n",
        "                  epochs.append(epoch)\n",
        "                      \n",
        "\n",
        "              #Display the epoch\n",
        "              if epoch % 1000 == 0:\n",
        "                  print(\"Epoch: %d, \"\n",
        "                        \"Training loss: %s, \"\n",
        "                        \"Validation loss: %s, \" % (epoch, train_loss, val_loss))\n",
        "                  \n",
        "          # save the model\n",
        "          saver.save(sess, '/content/drive/My Drive/Colab Notebooks/ML/parameters/model.ckpt')\n",
        "          end_time = time.clock()\n",
        "\n",
        "          print(\"The totoal training time is: \" + str(end_time-start_time))\n",
        "\n",
        "\n",
        "          pyplot.plot(epochs, train_losses, 'r', label='Training loss', linewidth=1, linestyle='-')\n",
        "          pyplot.plot(epochs, val_losses, 'b', label='Validation loss', linewidth=3, linestyle='-.')\n",
        "          pyplot.xlabel('Epoch') \n",
        "          pyplot.ylabel('Loss')\n",
        "          pyplot.title('Training and validation loss')\n",
        "          pyplot.legend()\n",
        "          pyplot.figure()\n",
        "          \n",
        "          # Test model\n",
        "          pred = (neural_network) \n",
        "          output=neural_network.eval({X_p: X_test}) \n",
        "\n",
        "          # plot prediction and labels\n",
        "          pyplot.plot(y_test[0:500], 'ro', label='Testing labels')\n",
        "          pyplot.plot(output[0:500], 'bo', label='Predictions')\n",
        "          pyplot.xlabel('Instances') \n",
        "          pyplot.ylabel('Average_log(PM2.5 + 1)')\n",
        "          pyplot.title('Partial Predictions and labels')\n",
        "          pyplot.show()\n",
        "\n",
        "          # # final RMSE\n",
        "          # rmse_score = sess.run(eval_RMSE,feed_dict={X_p:X_test,Y_p:y_test})\n",
        "          # print(\"Average RMSE: \" + str(rmse_score))"
      ],
      "execution_count": 12,
      "outputs": []
    },
    {
      "cell_type": "code",
      "metadata": {
        "id": "5NFmoy_gOV_o"
      },
      "source": [
        "def load_model():\n",
        "    with tf.Session() as sess:\n",
        "        new_saver=tf.train.import_meta_graph('/content/drive/My Drive/Colab Notebooks/ML/parameters/model.ckpt.meta')\n",
        "        new_saver.restore(sess,'/content/drive/My Drive/Colab Notebooks/ML/parameters/model.ckpt')\n",
        "        graph = tf.get_default_graph()\n",
        "        # redefine the structure\n",
        "        X_p=graph.get_operation_by_name('X_p').outputs[0]\n",
        "        Y_p=graph.get_operation_by_name('Y_p').outputs[0]\n",
        "        output=tf.get_collection(\"pred_network\")[0]\n",
        "        loss = tf.get_collection(\"loss\")[0]\n",
        "\n",
        "        # retrain\n",
        "        y_pred = sess.run(output, feed_dict={X_p: X_test})\n",
        "        loss_score = sess.run(loss, feed_dict={X_p: X_test,Y_p:y_test})\n",
        "\n",
        "        # plot prediction and labels\n",
        "        pyplot.plot(y_test[0:500], 'ro', label='Testing labels')\n",
        "        pyplot.plot(y_pred[0:500], 'bo', label='Predictions')\n",
        "        pyplot.xlabel('Instances') \n",
        "        pyplot.ylabel('Average_log(PM2.5 + 1)')\n",
        "        pyplot.title('Partial Predictions and labels')\n",
        "        pyplot.show()\n",
        "\n",
        "        print(\"Loss score: \" + str(loss_score))\n"
      ],
      "execution_count": 13,
      "outputs": []
    },
    {
      "cell_type": "code",
      "metadata": {
        "id": "bJcLbgLvWxHD",
        "outputId": "1a5b4832-81be-4b1d-f840-7c11ab89d926",
        "colab": {
          "base_uri": "https://localhost:8080/",
          "height": 327
        }
      },
      "source": [
        "# if you get an error like this \"At least two variables have the same name: Variable\",please choose Runtime-> Restart runtime, then rerun this program\n",
        "# make sure there are ckpt files in your folder, if not, try to train the model at first\n",
        "# isTrain = False\n",
        "isTrain = True\n",
        "\n",
        "if isTrain:\n",
        "  load_model()\n",
        "else:\n",
        "  train_model()"
      ],
      "execution_count": 14,
      "outputs": [
        {
          "output_type": "stream",
          "text": [
            "INFO:tensorflow:Restoring parameters from /content/drive/My Drive/Colab Notebooks/ML/parameters/model.ckpt\n"
          ],
          "name": "stdout"
        },
        {
          "output_type": "display_data",
          "data": {
            "image/png": "[encoded data removed]",
            "text/plain": [
              "<Figure size 432x288 with 1 Axes>"
            ]
          },
          "metadata": {
            "tags": [],
            "needs_background": "light"
          }
        },
        {
          "output_type": "stream",
          "text": [
            "Loss score: 0.5754898\n"
          ],
          "name": "stdout"
        }
      ]
    }
  ]
}