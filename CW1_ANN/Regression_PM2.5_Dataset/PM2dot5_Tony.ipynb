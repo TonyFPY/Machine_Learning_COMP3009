{
  "nbformat": 4,
  "nbformat_minor": 0,
  "metadata": {
    "colab": {
      "name": "PM2dot5.ipynb",
      "provenance": [],
      "collapsed_sections": []
    },
    "kernelspec": {
      "name": "python3",
      "display_name": "Python 3"
    },
    "accelerator": "GPU"
  },
  "cells": [
    {
      "cell_type": "markdown",
      "metadata": {
        "id": "KabVvo47dMxv"
      },
      "source": [
        "### **Beijing PM2.5 Dataset for classification**\n",
        "\n",
        "**Abstract:** \n",
        "<p>This hourly data set contains the PM2.5 data of US Embassy in Beijing. Meanwhile, meteorological data from Beijing Capital International Airport are also included.</p>\n",
        "\n",
        "**Attribute Information:**\n",
        "\n",
        "|Attributte| Explanation                 ||Attributte| Explanation          |\n",
        "|  :----   | :----                       ||  :----   | :----                |\n",
        "|No.       | row number                  ||DEWP.| Dew Point (â„ƒ)           | \n",
        "|year.     | year of data in this row    ||TEMP | Temperature (â„ƒ)         | \n",
        "|month.    | month of data in this row   ||PRES.| Pressure (hPa)            | \n",
        "|day.      | day of data in this row     ||cbwd.| Combined wind direction   | \n",
        "|hour.     | hour of data in this row    ||Iws. | Cumulated wind speed (m/s)| \n",
        "|pm2.5.    | PM2.5 concentration (ug/m^3)||Is.  | Cumulated hours of snow   | \n",
        "|.         |                             ||Ir.  | Cumulated hours of rain   | \n",
        "\n",
        "**Data source:**\n",
        "<p>Liang, X., Zou, T., Guo, B., Li, S., Zhang, H., Zhang, S., Huang, H. and Chen, S. X. (2015). Assessing Beijing's PM2.5 pollution: severity, weather impact, APEC and winter heating. Proceedings of the Royal Society A, 471, 20150257.</p>"
      ]
    },
    {
      "cell_type": "code",
      "metadata": {
        "id": "WHBoLiUJdRxK",
        "outputId": "99085fee-4f17-4330-e360-2b097660d525",
        "colab": {
          "base_uri": "https://localhost:8080/"
        }
      },
      "source": [
        "# Environment Preparation\n",
        "%tensorflow_version 1.x\n",
        "import tensorflow as tf\n",
        "print(tf.__version__)"
      ],
      "execution_count": 109,
      "outputs": [
        {
          "output_type": "stream",
          "text": [
            "1.15.2\n"
          ],
          "name": "stdout"
        }
      ]
    },
    {
      "cell_type": "markdown",
      "metadata": {
        "id": "e5Z0NBP3H9HF"
      },
      "source": [
        "**Data Pre-processing:**\n",
        "\n",
        "*   Data Cleaning\n",
        "*   Feature Selection\n",
        "*   Data Split\n",
        "*   Data Normalisation\n"
      ]
    },
    {
      "cell_type": "code",
      "metadata": {
        "id": "wpsxCmYBqXf9",
        "outputId": "7ec56e0e-4b25-4286-94b7-69930d64cb94",
        "colab": {
          "base_uri": "https://localhost:8080/",
          "height": 404
        }
      },
      "source": [
        "import pandas as pd\n",
        "import numpy as np\n",
        "import datetime\n",
        "import time\n",
        "from matplotlib import pyplot\n",
        "\n",
        "# load raw data\n",
        "df = pd.read_csv(\"/content/drive/My Drive/Colab Notebooks/ML_COMP3009/CW1/regression/pm2dot5.csv\")\n",
        "\n",
        "# clean data with missing values          \n",
        "'''drop the rows directly -> mess up the order\n",
        "   first 24 rows have pm2.5 value that is NaN -> discard\n",
        "   else: forward filling'''\n",
        "df = df[24:].fillna(method='ffill')\n",
        "\n",
        "# integrate 'year', 'month', 'day', 'hour', 'No' as one attribute\n",
        "df['time'] = df.apply(lambda x : datetime.datetime(year=x['year'], month=x['month'], day=x['day'], hour=x['hour']), axis=1)\n",
        "df.drop(columns=['year', 'month', 'day', 'hour', 'No'], inplace=True)\n",
        "df = df.set_index('time')\n",
        "\n",
        "# expand \"cbwd\" into 4 attributes 'SE', 'cv', 'NW', 'NE'\n",
        "df = df.join(pd.get_dummies(df['cbwd'])) # one-hot encoding\n",
        "del df['cbwd']\n",
        "\n",
        "# df = df.drop('cbwd', axis = 1) # remove the attribute temporarily\n",
        "print(df.head())\n",
        "\n",
        "values = df.values;\n",
        "# specify columns to plot\n",
        "groups = [0, 1, 2, 3, 5, 6]\n",
        "i = 1\n",
        "# plotting each column\n",
        "pyplot.figure()\n",
        "for group in groups:\n",
        "\tpyplot.subplot(len(groups), 1, i)\n",
        "\tpyplot.plot(values[:, group])\n",
        "\tpyplot.title(df.columns[group], y=0.5, loc='right')\n",
        "\ti += 1\n",
        "pyplot.show()\n",
        "\n",
        "X_ = df.iloc[:,1:].astype(np.float32)\n",
        "y_ = df['pm2.5'].astype(np.float32).to_frame()\n",
        "\n",
        "# split the data\n",
        "from sklearn.model_selection import train_test_split\n",
        "# def train_test_val_split(data, ratio_train, ratio_test, ratio_val):\n",
        "#     train, middle = train_test_split(data, train_size=ratio_train, test_size=ratio_test + ratio_val)\n",
        "#     ratio = ratio_val/(1-ratio_train)\n",
        "#     test, validation = train_test_split(middle, test_size=ratio)\n",
        "#     return train, test, validation\n",
        "# (X_train, y_train),(X_test, y_test),(X_val, y_val) = train_test_val_split((X.values, y.values), 0.6, 0.2, 0.2)\n",
        "X_train, X_test, y_train, y_test = train_test_split(X_.values, y_.values, test_size=0.2,shuffle=True)\n",
        "\n",
        "# normalisation\n",
        "mean = X_train.mean(axis=0)\n",
        "std = X_train.std(axis=0)\n",
        "X_train = (X_train - mean) / std\n",
        "X_test = (X_test - mean) / std # Use the mean & std of train. Since there's no way for us to know the future.\n",
        "\n",
        "mean = y_train.mean(axis=0)\n",
        "std = y_train.std(axis=0)\n",
        "y_train = (y_train - mean) / std\n",
        "y_test = (y_test - mean) / std # Use the mean & std of train. Since there's no way for us to know the future.\n",
        "\n",
        "# from sklearn.preprocessing import MinMaxScaler\n",
        "# scaler = MinMaxScaler()\n",
        "# X_train= scaler.fit_transform(X_train.astype(np.float32))\n",
        "# y_train= scaler.fit_transform(y_train.astype(np.float32))\n",
        "# X_test= scaler.transform(X_test.astype(np.float32))\n",
        "# y_test= scaler.transform(y_test.astype(np.float32))\n",
        "\n",
        "X_train.shape, y_train.shape, X_test.shape, y_test.shape\n",
        "\n",
        "# print(X_train)\n"
      ],
      "execution_count": 110,
      "outputs": [
        {
          "output_type": "stream",
          "text": [
            "                     pm2.5  DEWP  TEMP    PRES   Iws  Is  Ir  NE  NW  SE  cv\n",
            "time                                                                        \n",
            "2010-01-02 00:00:00  129.0   -16  -4.0  1020.0  1.79   0   0   0   0   1   0\n",
            "2010-01-02 01:00:00  148.0   -15  -4.0  1020.0  2.68   0   0   0   0   1   0\n",
            "2010-01-02 02:00:00  159.0   -11  -5.0  1021.0  3.57   0   0   0   0   1   0\n",
            "2010-01-02 03:00:00  181.0    -7  -5.0  1022.0  5.36   1   0   0   0   1   0\n",
            "2010-01-02 04:00:00  138.0    -7  -5.0  1022.0  6.25   2   0   0   0   1   0\n"
          ],
          "name": "stdout"
        },
        {
          "output_type": "display_data",
          "data": {
            "image/png": "[encoded data removed]",
            "text/plain": [
              "<Figure size 432x288 with 6 Axes>"
            ]
          },
          "metadata": {
            "tags": [],
            "needs_background": "light"
          }
        },
        {
          "output_type": "execute_result",
          "data": {
            "text/plain": [
              "((35040, 10), (35040, 1), (8760, 10), (8760, 1))"
            ]
          },
          "metadata": {
            "tags": []
          },
          "execution_count": 110
        }
      ]
    },
    {
      "cell_type": "markdown",
      "metadata": {
        "id": "HlRfznRZeyts"
      },
      "source": [
        "Artificial Neural Network Configuration"
      ]
    },
    {
      "cell_type": "code",
      "metadata": {
        "id": "VMWvzjPkTo3a"
      },
      "source": [
        "#Network parameters\n",
        "n_input = 10 # 6\n",
        "n_hidden1, n_hidden2 = 10, 10\n",
        "n_output = 1\n",
        "#Learning parameters \n",
        "learning_constant = 0.0001\n",
        "number_epochs = 10000\n",
        "\n",
        "#Defining the input and the output\n",
        "X = tf.placeholder(\"float\", [None, n_input]) \n",
        "Y = tf.placeholder(\"float\", [None, n_output])\n",
        "#DEFINING WEIGHTS AND BIASES\n",
        "b1 = tf.Variable(tf.random_normal([n_hidden1])) #Biases first hidden layer\n",
        "b2 = tf.Variable(tf.random_normal([n_hidden2])) #Biases second hidden layer\n",
        "b3 = tf.Variable(tf.random_normal([n_output]))  #Biases output layer\n",
        "#Weights connecting input layer with first hidden layer\n",
        "w1 = tf.Variable(tf.random_normal([n_input, n_hidden1])) #Weights connecting first hidden layer with second hidden layer \n",
        "w2 = tf.Variable(tf.random_normal([n_hidden1, n_hidden2])) #Weights connecting second hidden layer with output layer\n",
        "w3 = tf.Variable(tf.random_normal([n_hidden2, n_output]))\n",
        "\n",
        "# forward\n",
        "def multilayer_perceptron(input_d):\n",
        "  #Task of neurons of first hidden layer\n",
        "  layer_1 = tf.nn.relu(tf.add(tf.matmul(input_d, w1), b1)) #Task of neurons of second hidden layer\n",
        "  layer_2 = tf.nn.relu(tf.add(tf.matmul(layer_1, w2), b2)) #Task of neurons of output layer\n",
        "  out_layer = tf.add(tf.matmul(layer_2, w3),b3)\n",
        "  \n",
        "  return out_layer\n",
        "\n",
        "# create model\n",
        "neural_network = multilayer_perceptron(X)\n",
        "# define loss function\n",
        "# loss_op = tf.reduce_mean(tf.nn.softmax_cross_entropy_with_logits(logits=neural_network,labels=Y))\n",
        "loss_op = tf.reduce_mean(tf.math.squared_difference(neural_network,Y))\n",
        "# define optimizer\n",
        "optimizer = tf.train.GradientDescentOptimizer(learning_constant).minimize(loss_op)\n",
        "\n",
        "# initializaing variables\n",
        "init = tf.global_variables_initializer()\n"
      ],
      "execution_count": 111,
      "outputs": []
    },
    {
      "cell_type": "markdown",
      "metadata": {
        "id": "veUIl77HgiAq"
      },
      "source": [
        "Training the model"
      ]
    },
    {
      "cell_type": "code",
      "metadata": {
        "id": "mKBWbqXPgm6W",
        "outputId": "2fd98119-edec-4ff4-84f8-145041df720c",
        "colab": {
          "base_uri": "https://localhost:8080/",
          "height": 469
        }
      },
      "source": [
        "with tf.Session() as sess: \n",
        "  start_time = time.clock()\n",
        "  sess.run(init)\n",
        "  #Training epoch\n",
        "  for epoch in range(number_epochs):\n",
        "    sess.run(optimizer, feed_dict={X: X_train, Y: y_train})\n",
        "    #Display the epoch\n",
        "    if epoch % 1000 == 0:\n",
        "      print(\"Epoch:\" + str(epoch) + \" Loss:\" + str(sess.run(loss_op, feed_dict={X: X_train, Y: y_train})))\n",
        "  end_time = time.clock()\n",
        "  print(\"The totoal training time is: \" + str(end_time-start_time))\n",
        "  \n",
        "  # Test model\n",
        "  pred = (neural_network) # Apply softmax to logits \n",
        "  accuracy=tf.keras.losses.MSE(pred,y_test) \n",
        "  # print(\"Accuracy:\", accuracy.eval({X: batch_x_train, Y: batch_y_train})) \n",
        "  # #tf.keras.evaluate(pred,batch_x)\n",
        "  # print(\"Prediction:\", pred.eval({X: batch_x_train})) \n",
        "  \n",
        "  output=neural_network.eval({X: X_test}) \n",
        "  pyplot.plot(y_test[0:500], 'ro', output[0:500], 'bo') \n",
        "  pyplot.ylabel('Normalised PM2.5')\n",
        "  pyplot.show()\n",
        "\n",
        "  estimated_class=tf.argmax(pred, 1)#+1e-50-1e-50\n",
        "  correct_prediction1 = tf.equal(tf.argmax(pred, 1),y_test)\n",
        "  accuracy1 = tf.reduce_mean(tf.cast(correct_prediction1, tf.float32))\n",
        "\n",
        "  print(\"Average precison: \" + str(accuracy1.eval({X: X_test})))"
      ],
      "execution_count": 112,
      "outputs": [
        {
          "output_type": "stream",
          "text": [
            "Epoch:0 Loss:555.7735\n",
            "Epoch:1000 Loss:2.1549273\n",
            "Epoch:2000 Loss:1.7188383\n",
            "Epoch:3000 Loss:1.4948128\n",
            "Epoch:4000 Loss:1.3483797\n",
            "Epoch:5000 Loss:1.248776\n",
            "Epoch:6000 Loss:1.178945\n",
            "Epoch:7000 Loss:1.1325247\n",
            "Epoch:8000 Loss:1.1025211\n",
            "Epoch:9000 Loss:1.0834192\n",
            "The totoal training time is: 21.999738999999977\n"
          ],
          "name": "stdout"
        },
        {
          "output_type": "display_data",
          "data": {
            "image/png": "[encoded data removed]",
            "text/plain": [
              "<Figure size 432x288 with 1 Axes>"
            ]
          },
          "metadata": {
            "tags": [],
            "needs_background": "light"
          }
        },
        {
          "output_type": "stream",
          "text": [
            "Average precison: 0.8507991\n"
          ],
          "name": "stdout"
        }
      ]
    }
  ]
}