{
  "nbformat": 4,
  "nbformat_minor": 0,
  "metadata": {
    "colab": {
      "name": "Copy of CW_ANN.ipynb",
      "provenance": [],
      "collapsed_sections": []
    },
    "kernelspec": {
      "name": "python3",
      "display_name": "Python 3"
    },
    "accelerator": "GPU"
  },
  "cells": [
    {
      "cell_type": "code",
      "metadata": {
        "id": "rk8rYQqc2-wA",
        "outputId": "b42126d0-d517-4202-d374-d7296a13b8c7",
        "colab": {
          "base_uri": "https://localhost:8080/"
        }
      },
      "source": [
        "import os\n",
        "from google.colab import drive\n",
        "drive.mount('/content/drive', force_remount=True)"
      ],
      "execution_count": 278,
      "outputs": [
        {
          "output_type": "stream",
          "text": [
            "Mounted at /content/drive\n"
          ],
          "name": "stdout"
        }
      ]
    },
    {
      "cell_type": "code",
      "metadata": {
        "id": "5pgzOumR3CTj",
        "outputId": "32ed7ca0-90c8-4fdc-c2db-e912af586a55",
        "colab": {
          "base_uri": "https://localhost:8080/"
        }
      },
      "source": [
        "import numpy as np\n",
        "import pandas as pd\n",
        "import time\n",
        "import pickle\n",
        "import matplotlib.pyplot as plt\n",
        "import warnings\n",
        "\n",
        "warnings.filterwarnings(\"ignore\")\n",
        "%matplotlib inline\n",
        "\n",
        "%tensorflow_version 1.0.0\n",
        "import tensorflow as tf\n",
        "print(tf.__version__)"
      ],
      "execution_count": 279,
      "outputs": [
        {
          "output_type": "stream",
          "text": [
            "DEBUG:matplotlib.pyplot:Loaded backend module://ipykernel.pylab.backend_inline version unknown.\n"
          ],
          "name": "stderr"
        },
        {
          "output_type": "stream",
          "text": [
            "`%tensorflow_version` only switches the major version: 1.x or 2.x.\n",
            "You set: `1.0.0`. This will be interpreted as: `1.x`.\n",
            "\n",
            "\n",
            "TensorFlow is already loaded. Please restart the runtime to change versions.\n",
            "1.15.2\n"
          ],
          "name": "stdout"
        }
      ]
    },
    {
      "cell_type": "code",
      "metadata": {
        "id": "DC33yo3w3EI-",
        "outputId": "011928e8-d740-4482-d21b-cce04ccefc7b",
        "colab": {
          "base_uri": "https://localhost:8080/"
        }
      },
      "source": [
        "print(\"TensorFlow Version: %s\" % tf.__version__)"
      ],
      "execution_count": 280,
      "outputs": [
        {
          "output_type": "stream",
          "text": [
            "TensorFlow Version: 1.15.2\n"
          ],
          "name": "stdout"
        }
      ]
    },
    {
      "cell_type": "code",
      "metadata": {
        "id": "zF9WMxTq3L-x"
      },
      "source": [
        "import numpy as np\n",
        "import tensorflow as tf\n",
        "import math\n",
        "import logging\n",
        "logging.basicConfig(level=logging.DEBUG)\n",
        "import matplotlib.pyplot as plt\n",
        "\n",
        "from sklearn.model_selection import train_test_split"
      ],
      "execution_count": 281,
      "outputs": []
    },
    {
      "cell_type": "code",
      "metadata": {
        "id": "HYA_6heF3NIA"
      },
      "source": [
        "#Network parameters\n",
        "n_hidden1 = 10\n",
        "n_hidden2 = 10\n",
        "n_input = 10\n",
        "n_output = 1\n",
        "#Learning parameters\n",
        "learning_constant = 0.001\n",
        "number_epochs = 10000\n",
        "batch_size = 1000"
      ],
      "execution_count": 282,
      "outputs": []
    },
    {
      "cell_type": "code",
      "metadata": {
        "id": "Y7AKl_fm3QHf"
      },
      "source": [
        "#Defining the input and the output\n",
        "X = tf.placeholder(\"float\", [None, n_input])\n",
        "Y = tf.placeholder(\"float\", [None, n_output])\n",
        "#DEFINING WEIGHTS AND BIASES\n",
        "#Biases first hidden layer\n",
        "b1 = tf.Variable(tf.random_normal([n_hidden1]))\n",
        "#Biases second hidden layer\n",
        "b2 = tf.Variable(tf.random_normal([n_hidden2]))\n",
        "#Biases output layer\n",
        "b3 = tf.Variable(tf.random_normal([n_output]))\n",
        "#Weights connecting input layer with first hidden layer\n",
        "w1 = tf.Variable(tf.random_normal([n_input, n_hidden1]))\n",
        "#Weights connecting first hidden layer with second hidden layer\n",
        "w2 = tf.Variable(tf.random_normal([n_hidden1, n_hidden2]))\n",
        "#Weights connecting second hidden layer with output layer\n",
        "w3 = tf.Variable(tf.random_normal([n_hidden2, n_output]))"
      ],
      "execution_count": 283,
      "outputs": []
    },
    {
      "cell_type": "code",
      "metadata": {
        "id": "ZrtxSzwF3USw"
      },
      "source": [
        "# def multilayer_perceptron(input_d):\n",
        "#   #Task of neurons of first hidden layer\n",
        "#   layer_1 = tf.nn.sigmoid(tf.add(tf.matmul(input_d, w1), b1))\n",
        "#   #Task of neurons of second hidden layer\n",
        "#   layer_2 = tf.nn.sigmoid(tf.add(tf.matmul(layer_1, w2), b2))\n",
        "#   #Task of neurons of output layer\n",
        "#   out_layer = tf.add(tf.matmul(layer_2, w3),b3)\n",
        "#   return out_layer\n",
        "\n",
        "def multilayer_perceptron(input_d):\n",
        "  #Task of neurons of first hidden layer\n",
        "  layer_1 = tf.nn.relu(tf.add(tf.matmul(input_d, w1), b1))\n",
        "  #Task of neurons of second hidden layer\n",
        "  layer_2 = tf.nn.relu(tf.add(tf.matmul(layer_1, w2), b2))\n",
        "  #Task of neurons of output layer\n",
        "  out_layer = tf.add(tf.matmul(layer_2, w3),b3)\n",
        "  return out_layer"
      ],
      "execution_count": 284,
      "outputs": []
    },
    {
      "cell_type": "code",
      "metadata": {
        "id": "ABh0TPgp3X0l"
      },
      "source": [
        "#Create model\n",
        "neural_network = multilayer_perceptron(X)"
      ],
      "execution_count": 285,
      "outputs": []
    },
    {
      "cell_type": "code",
      "metadata": {
        "id": "XGtdPSGo3ZnE"
      },
      "source": [
        "#Define loss and optimizer\n",
        "loss_op = tf.reduce_mean(tf.math.squared_difference(neural_network,Y))\n",
        "#loss_op =tf.reduce_mean(tf.nn.softmax_cross_entropy_with_logits(logits=neural_network,labels=Y))\n",
        "optimizer= tf.train.GradientDescentOptimizer(learning_constant).minimize(loss_op)"
      ],
      "execution_count": 286,
      "outputs": []
    },
    {
      "cell_type": "code",
      "metadata": {
        "id": "xv6Z4h-I3caA"
      },
      "source": [
        "#Initializing the variables\n",
        "init = tf.global_variables_initializer()"
      ],
      "execution_count": 287,
      "outputs": []
    },
    {
      "cell_type": "code",
      "metadata": {
        "id": "nYrcGL7zNBjH"
      },
      "source": [
        "import numpy as np\n",
        "import pandas as pd\n",
        "import datetime\n",
        "\n",
        "def PM2Dot5():\n",
        "    path = '/content/drive/My Drive/Colab Notebooks/ML/PRSA_data_2010.1.1-2014.12.31.csv'\n",
        "    # names = ['No','year','month','day','hour','pm2.5','DEWP','TEMP','PRES','cbwd','Iws','Is','Ir']\n",
        "    df = pd.read_csv(path,index_col=False)\n",
        "\n",
        "    # drop the rows directly -> mess up the order\n",
        "    # first 24 rows have pm2.5 value that is NaN -> discard\n",
        "    # else: forward filling\n",
        "    df = df[24:].fillna(method='ffill')\n",
        "\n",
        "    df['time'] = df.apply(lambda x : datetime.datetime(year=x['year'], month=x['month'], day=x['day'], hour=x['hour']), axis=1)\n",
        "    df.drop(columns=['year', 'month', 'day', 'hour', 'No'], inplace=True)\n",
        "    df = df.set_index('time')\n",
        "\n",
        "    # one-hot encoding for attribute cbwd\n",
        "    df = df.join(pd.get_dummies(df['cbwd']))\n",
        "    del df['cbwd']\n",
        "\n",
        "\n",
        "    X = df.iloc[:,1:].astype(np.float32)\n",
        "    y = df['pm2.5'].astype(np.float32)\n",
        "\n",
        "    return X, y.to_frame()\n",
        "\n"
      ],
      "execution_count": 288,
      "outputs": []
    },
    {
      "cell_type": "code",
      "metadata": {
        "id": "4mecpkAdNCMV"
      },
      "source": [
        "X_source,y_source = PM2Dot5()\n",
        "\n",
        "X_train, X_test, y_train, y_test = train_test_split(X_source.values, y_source.values, test_size=0.4,shuffle=True)"
      ],
      "execution_count": 289,
      "outputs": []
    },
    {
      "cell_type": "code",
      "metadata": {
        "id": "JfFsfYWF22EJ",
        "outputId": "ba010ade-941d-4f3c-e954-558f3843bd34",
        "colab": {
          "base_uri": "https://localhost:8080/"
        }
      },
      "source": [
        "y_train"
      ],
      "execution_count": 290,
      "outputs": [
        {
          "output_type": "execute_result",
          "data": {
            "text/plain": [
              "array([[286.],\n",
              "       [ 92.],\n",
              "       [ 27.],\n",
              "       ...,\n",
              "       [112.],\n",
              "       [ 91.],\n",
              "       [ 29.]], dtype=float32)"
            ]
          },
          "metadata": {
            "tags": []
          },
          "execution_count": 290
        }
      ]
    },
    {
      "cell_type": "code",
      "metadata": {
        "id": "bR9gWPOT2OK_"
      },
      "source": [
        "# ## load MinMaxScaler\n",
        "# from sklearn.preprocessing import MinMaxScaler\n",
        "# scaler1 = MinMaxScaler(feature_range=(0,1))\n",
        "# scaler = MinMaxScaler(feature_range=(0,1))\n",
        "# X_train= scaler.fit_transform(X_train.astype(np.float32))\n",
        "# X_test= scaler.transform(X_test.astype(np.float32))\n",
        "\n",
        "# y_train= scaler1.fit_transform(y_train.astype(np.float32))\n",
        "# y_test= scaler1.transform(y_test.astype(np.float32))\n",
        "\n",
        "mean = X_train.mean(axis=0)\n",
        "std = X_train.std(axis=0)\n",
        "X_train = (X_train - mean) / std\n",
        "X_test = (X_test - mean) / std # Use the mean & std of train. Since there's no way for us to know the future.\n",
        "\n",
        "mean = y_train.mean(axis=0)\n",
        "std = y_train.std(axis=0)\n",
        "y_train = (y_train - mean) / std\n",
        "y_test = (y_test - mean) / std # Use the mean & std of train. Since there's no way for us to know the future."
      ],
      "execution_count": 291,
      "outputs": []
    },
    {
      "cell_type": "code",
      "metadata": {
        "id": "UD9xYVG93jsU",
        "outputId": "2990af03-0650-42d5-9ab8-bd9fe27d1997",
        "colab": {
          "base_uri": "https://localhost:8080/",
          "height": 622
        }
      },
      "source": [
        "with tf.Session() as sess:\n",
        "  start_time = time.clock()\n",
        "  sess.run(init)\n",
        "  #Training epoch\n",
        "  for epoch in range(number_epochs):\n",
        "    sess.run(optimizer, feed_dict={X: X_train, Y: y_train})\n",
        "    #Display the epoch\n",
        "    if epoch % 1000 == 0:\n",
        "      print(\"Epoch:\", '%d' % (epoch),' ','Loss = ' + str(sess.run(loss_op, feed_dict={X: X_train, Y: y_train})))\n",
        "      # print(\"Epoch:\", '%d' % (epoch))\n",
        "      # print('Loss = ' + str(sess.run(loss_op, feed_dict={X: X_train, Y: y_train})))\n",
        "\n",
        "  end_time = time.clock()\n",
        "  # Test model\n",
        "  pred = (neural_network) # Apply softmax to logits\n",
        "  accuracy=tf.keras.losses.MSE(pred,Y)\n",
        "  print(\"Accuracy:\", accuracy.eval({X: X_train, Y:y_train}))\n",
        "\n",
        "  print(\"Prediction:\", pred.eval({X: X_train}))\n",
        "\n",
        "  print(\"Training time:\",'%d' % (end_time-start_time))\n",
        "  output=neural_network.eval({X: X_test})\n",
        "  plt.plot(y_test[0:1000], 'ro', output[0:1000], 'bo')\n",
        "  plt.ylabel('some numbers')\n",
        "  plt.show()\n",
        " \n",
        "  estimated_class=tf.argmax(pred, 1)#+1e-50-1e-50\n",
        "  correct_prediction1 = tf.equal(tf.argmax(pred, 1),y_test)\n",
        "  accuracy1 = tf.reduce_mean(tf.cast(correct_prediction1, tf.float32))\n",
        "\n",
        "  print(\"Average precison: \" + str(accuracy1.eval({X: X_test})))"
      ],
      "execution_count": 292,
      "outputs": [
        {
          "output_type": "stream",
          "text": [
            "Epoch: 0   Loss = 77.44793\n",
            "Epoch: 1000   Loss = 1.0508571\n",
            "Epoch: 2000   Loss = 0.8580998\n",
            "Epoch: 3000   Loss = 0.8030011\n",
            "Epoch: 4000   Loss = 0.7775105\n",
            "Epoch: 5000   Loss = 0.76276314\n",
            "Epoch: 6000   Loss = 0.7530862\n",
            "Epoch: 7000   Loss = 0.7462066\n",
            "Epoch: 8000   Loss = 0.7409711\n",
            "Epoch: 9000   Loss = 0.7368463\n",
            "Accuracy: [4.3058538e+00 1.2111502e-03 4.0435502e-03 ... 6.8905149e-03 3.0324095e-01\n",
            " 1.9978483e-04]\n",
            "Prediction: [[ 0.0018997 ]\n",
            " [-0.09440653]\n",
            " [-0.8390515 ]\n",
            " ...\n",
            " [ 0.07764982]\n",
            " [ 0.48005503]\n",
            " [-0.7393017 ]]\n",
            "Training time: 31\n"
          ],
          "name": "stdout"
        },
        {
          "output_type": "display_data",
          "data": {
            "image/png": "[encoded data removed]",
            "text/plain": [
              "<Figure size 432x288 with 1 Axes>"
            ]
          },
          "metadata": {
            "tags": [],
            "needs_background": "light"
          }
        },
        {
          "output_type": "stream",
          "text": [
            "Average precison: 0.8412671\n"
          ],
          "name": "stdout"
        }
      ]
    }
  ]
}