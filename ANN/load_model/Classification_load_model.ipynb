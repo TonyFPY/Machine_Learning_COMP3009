{
 "cells": [
  {
   "cell_type": "markdown",
   "metadata": {
    "id": "DjAObbB-gwKp"
   },
   "source": [
    "### **Iris Dataset for classification**\n",
    "\n",
    "**Abstract:** \n",
    "<p>This is perhaps the best known database to be found in the pattern recognition literature. The data set contains 3 classes of 50 instances each, where each class refers to a type of iris plant. One class is linearly separable from the other 2; the latter are NOT linearly separable from each other. </p>\n",
    "\n",
    "**Attribute Information:**\n",
    "\n",
    "|Attribute | Explanation                 |\n",
    "|  :----   | :----                       |\n",
    "|Class     | Class of flower (Setosa, Versicolour, Virginica) | \n",
    "|sepallength.    | sepal length in cm    | \n",
    "|sepalwidth.     | sepal width in cm     | \n",
    "|petallength.    | petal length in cm    | \n",
    "|petalwidth.     | petal width in cm     | \n",
    "\n",
    "**Data source:**\n",
    "<p>Lichman, M. (2013). UCI Machine Learning Repository [http://archive.ics.uci.edu/ml]. Irvine, CA: University of California, School of Information and Computer Science.</p>"
   ]
  },
  {
   "cell_type": "markdown",
   "metadata": {
    "id": "sxE-EYeIg3m3"
   },
   "source": [
    "**Data Pre-processing:**\n",
    "\n",
    "*   Data Cleaning\n",
    "*   Data Split\n",
    "*   Data Normalisation"
   ]
  },
  {
   "cell_type": "code",
   "execution_count": 1,
   "metadata": {},
   "outputs": [
    {
     "name": "stdout",
     "output_type": "stream",
     "text": [
      "1.13.1\n"
     ]
    }
   ],
   "source": [
    "import warnings\n",
    "warnings.filterwarnings('ignore')\n",
    "import tensorflow as tf\n",
    "print(tf.__version__)"
   ]
  },
  {
   "cell_type": "code",
   "execution_count": 2,
   "metadata": {
    "colab": {
     "base_uri": "https://localhost:8080/"
    },
    "id": "HlaHqT0pg2fi",
    "outputId": "8d32b16e-7b88-4eeb-fcb2-13a6087beb45"
   },
   "outputs": [
    {
     "data": {
      "text/plain": [
       "((120, 4), (120, 3), (15, 4), (15, 3), (15, 4), (15, 3))"
      ]
     },
     "execution_count": 2,
     "metadata": {},
     "output_type": "execute_result"
    }
   ],
   "source": [
    "import pandas as pd\n",
    "import numpy as np\n",
    "import datetime\n",
    "import time\n",
    "import matplotlib.pyplot as plt\n",
    "import math\n",
    "import random\n",
    "import seaborn as sns\n",
    "\n",
    "\n",
    "# read data from csv file and process X, y\n",
    "def data_loader(data_path):\n",
    "    # load raw data\n",
    "    data = pd.read_csv(data_path)\n",
    "\n",
    "    features = data.columns[0:4]\n",
    "    labels = data.columns[4]\n",
    "\n",
    "    X = data[features].astype(np.float32)\n",
    "    y = pd.get_dummies(data[labels]).astype(np.float32)# One Hot Encode as a dataframe\n",
    "\n",
    "    return X, y\n",
    "\n",
    "# split the data into train, val and test set\n",
    "from sklearn.model_selection import train_test_split\n",
    "def train_test_val_split(data, ratio_train, ratio_test, ratio_val):\n",
    "        X_train, X_middle, y_train, y_middle = train_test_split(data[0], data[1], train_size=ratio_train, test_size=ratio_test + ratio_val, shuffle=True)\n",
    "        ratio = ratio_val/(1-ratio_train)\n",
    "        X_val, X_test, y_val, y_test = train_test_split(X_middle, y_middle, train_size=ratio, shuffle=True)\n",
    "        return (X_train, y_train),(X_val, y_val),(X_test, y_test)\n",
    "\n",
    "# Z-score normalisation\n",
    "def data_normalisation(train, val, test):\n",
    "        X_train, y_train = train[0], train[1]\n",
    "        X_val, y_val = val[0], val[1]\n",
    "        X_test, y_test = test[0], test[1]\n",
    "\n",
    "        mean_x, std_x = X_train.mean(axis=0), X_train.std(axis=0)\n",
    "\n",
    "        # Use the mean & std of train. Since there's no way for us to know the future.\n",
    "        (X_train, y_train) = ((X_train-mean_x)/std_x, y_train)\n",
    "        (X_val, y_val) = ((X_val-mean_x)/std_x, y_val) \n",
    "        (X_test, y_test) = ((X_test-mean_x)/std_x, y_test)\n",
    "\n",
    "        return (X_train, y_train),(X_val, y_val),(X_test, y_test)\n",
    "\n",
    "data_path ='../dataset/iris.csv'\n",
    "X, y = data_loader(data_path)\n",
    "\n",
    "\n",
    "# X_train, X_test, y_train, y_test = train_test_split(X, y, train_size=0.8, test_size=0.2, shuffle=True)\n",
    "(X_train, y_train),(X_val, y_val),(X_test, y_test) = train_test_val_split((X.values, y.values), 0.8, 0.1, 0.1)\n",
    "(X_train, y_train),(X_val, y_val),(X_test, y_test) = data_normalisation((X_train, y_train),(X_val, y_val),(X_test, y_test))\n",
    "\n",
    "X_train.shape, y_train.shape, X_test.shape, y_test.shape, X_val.shape, y_val.shape\n"
   ]
  },
  {
   "cell_type": "markdown",
   "metadata": {
    "id": "yhtRlcbXtd23"
   },
   "source": [
    "Load model"
   ]
  },
  {
   "cell_type": "code",
   "execution_count": 3,
   "metadata": {
    "colab": {
     "base_uri": "https://localhost:8080/",
     "height": 327
    },
    "id": "waf98lYjhG7z",
    "outputId": "560afe98-ddc6-4565-924f-ac77f2a6df46"
   },
   "outputs": [
    {
     "name": "stdout",
     "output_type": "stream",
     "text": [
      "WARNING:tensorflow:From /Users/anthony/opt/anaconda3/envs/tf1.3/lib/python3.7/site-packages/tensorflow/python/training/saver.py:1266: checkpoint_exists (from tensorflow.python.training.checkpoint_management) is deprecated and will be removed in a future version.\n",
      "Instructions for updating:\n",
      "Use standard file APIs to check for files with this prefix.\n",
      "INFO:tensorflow:Restoring parameters from ../saved_model/model_classification/model.ckpt\n"
     ]
    },
    {
     "data": {
      "image/png": "[encoded data removed]",
      "text/plain": [
       "<Figure size 432x288 with 1 Axes>"
      ]
     },
     "metadata": {
      "needs_background": "light"
     },
     "output_type": "display_data"
    },
    {
     "name": "stdout",
     "output_type": "stream",
     "text": [
      "Accuracy: 0.93333334\n"
     ]
    }
   ],
   "source": [
    "with tf.Session() as sess:\n",
    "    new_saver=tf.train.import_meta_graph('../saved_model/model_classification/model.ckpt.meta')\n",
    "    new_saver.restore(sess,tf.train.latest_checkpoint('../saved_model/model_classification'))\n",
    "    graph = tf.get_default_graph()\n",
    "    # redefine the structure\n",
    "    X_p=graph.get_operation_by_name('X_p').outputs[0]\n",
    "    Y_p=graph.get_operation_by_name('Y_p').outputs[0]\n",
    "    prediction=tf.get_collection(\"prediction\")[0]\n",
    "    accuracy_func = tf.get_collection(\"accuracy_func\")[0]\n",
    "\n",
    "    # Test model \n",
    "    output = prediction.eval({X_p: X_test}) \n",
    "    id_pred = np.argmax(output, axis=1) + 1\n",
    "    id_label = np.argmax(np.asarray(y_test), axis=1) + 1\n",
    "\n",
    "    plt.plot(range(0,len(id_label)), id_label, 'ro',label = \"labels\", markersize=7) \n",
    "    plt.plot(range(0,len(id_label)), id_pred, 'bx',label = \"predictions\", markersize=9) \n",
    "    plt.legend(loc=\"upper right\")\n",
    "    for i in range(1,4):\n",
    "        plt.axhline(y = i, linestyle='-', color = 'k', linewidth = 1)\n",
    "    plt.yticks(range(0,5))\n",
    "    plt.title('Predictions and Labels')\n",
    "    plt.ylabel('Classes')\n",
    "    plt.xlabel('Instance')\n",
    "    plt.show()\n",
    "\n",
    "    # final accuracy\n",
    "    accuracy = sess.run(accuracy_func,feed_dict={X_p:X_test,Y_p:y_test})\n",
    "    print(\"Accuracy: \" + str(accuracy))"
   ]
  }
 ],
 "metadata": {
  "colab": {
   "collapsed_sections": [],
   "name": "Classification_load_model.ipynb",
   "provenance": []
  },
  "kernelspec": {
   "display_name": "tf1.3",
   "language": "python",
   "name": "tf1.3"
  },
  "language_info": {
   "codemirror_mode": {
    "name": "ipython",
    "version": 3
   },
   "file_extension": ".py",
   "mimetype": "text/x-python",
   "name": "python",
   "nbconvert_exporter": "python",
   "pygments_lexer": "ipython3",
   "version": "3.7.9"
  }
 },
 "nbformat": 4,
 "nbformat_minor": 1
}
