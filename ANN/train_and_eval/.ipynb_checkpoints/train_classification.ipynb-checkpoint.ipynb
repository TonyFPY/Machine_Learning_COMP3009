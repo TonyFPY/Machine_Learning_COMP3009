{
 "cells": [
  {
   "cell_type": "markdown",
   "metadata": {
    "id": "DjAObbB-gwKp"
   },
   "source": [
    "### **Iris Dataset for classification**\n",
    "\n",
    "**Abstract:** \n",
    "<p>This is perhaps the best known database to be found in the pattern recognition literature. The data set contains 3 classes of 50 instances each, where each class refers to a type of iris plant. One class is linearly separable from the other 2; the latter are NOT linearly separable from each other. </p>\n",
    "\n",
    "**Attribute Information:**\n",
    "\n",
    "|Attribute | Explanation                 |\n",
    "|  :----   | :----                       |\n",
    "|Class     | Class of flower (Setosa, Versicolour, Virginica) | \n",
    "|sepallength.    | sepal length in cm    | \n",
    "|sepalwidth.     | sepal width in cm     | \n",
    "|petallength.    | petal length in cm    | \n",
    "|petalwidth.     | petal width in cm     | \n",
    "\n",
    "**Data source:**\n",
    "<p>Lichman, M. (2013). UCI Machine Learning Repository [http://archive.ics.uci.edu/ml]. Irvine, CA: University of California, School of Information and Computer Science.</p>"
   ]
  },
  {
   "cell_type": "markdown",
   "metadata": {
    "id": "sxE-EYeIg3m3"
   },
   "source": [
    "**Data Pre-processing:**\n",
    "\n",
    "*   Data Cleaning\n",
    "*   Data Split\n",
    "*   Data Normalisation"
   ]
  },
  {
   "cell_type": "code",
   "execution_count": 1,
   "metadata": {},
   "outputs": [
    {
     "name": "stdout",
     "output_type": "stream",
     "text": [
      "1.13.1\n"
     ]
    }
   ],
   "source": [
    "import warnings\n",
    "warnings.filterwarnings('ignore')\n",
    "import tensorflow as tf\n",
    "print(tf.__version__)"
   ]
  },
  {
   "cell_type": "code",
   "execution_count": 2,
   "metadata": {
    "colab": {
     "base_uri": "https://localhost:8080/"
    },
    "id": "HlaHqT0pg2fi",
    "outputId": "69901b14-2891-462c-9150-a5ae0b03f424"
   },
   "outputs": [
    {
     "data": {
      "text/plain": [
       "((120, 4), (120, 3), (15, 4), (15, 3), (15, 4), (15, 3))"
      ]
     },
     "execution_count": 2,
     "metadata": {},
     "output_type": "execute_result"
    }
   ],
   "source": [
    "import pandas as pd\n",
    "import numpy as np\n",
    "import datetime\n",
    "import time\n",
    "import matplotlib.pyplot as plt\n",
    "import math\n",
    "import random\n",
    "import seaborn as sns\n",
    "\n",
    "# read data from csv file and process X, y\n",
    "def data_loader(data_path):\n",
    "    # load raw data\n",
    "    data = pd.read_csv(data_path)\n",
    "\n",
    "    features = data.columns[0:4]\n",
    "    labels = data.columns[4]\n",
    "\n",
    "    X = data[features].astype(np.float32)\n",
    "    y = pd.get_dummies(data[labels]).astype(np.float32)# One Hot Encode as a dataframe\n",
    "\n",
    "    return X, y\n",
    "\n",
    "# split the data into train, val and test set\n",
    "from sklearn.model_selection import train_test_split\n",
    "def train_test_val_split(data, ratio_train, ratio_test, ratio_val):\n",
    "        X_train, X_middle, y_train, y_middle = train_test_split(data[0], data[1], train_size=ratio_train, test_size=ratio_test + ratio_val, shuffle=True)\n",
    "        ratio = ratio_val/(1-ratio_train)\n",
    "        X_val, X_test, y_val, y_test = train_test_split(X_middle, y_middle, train_size=ratio, shuffle=True)\n",
    "        return (X_train, y_train),(X_val, y_val),(X_test, y_test)\n",
    "\n",
    "# Z-score normalisation\n",
    "def data_normalisation(train, val, test):\n",
    "        X_train, y_train = train[0], train[1]\n",
    "        X_val, y_val = val[0], val[1]\n",
    "        X_test, y_test = test[0], test[1]\n",
    "\n",
    "        mean_x, std_x = X_train.mean(axis=0), X_train.std(axis=0)\n",
    "\n",
    "        # Use the mean & std of train. Since there's no way for us to know the future.\n",
    "        (X_train, y_train) = ((X_train-mean_x)/std_x, y_train)\n",
    "        (X_val, y_val) = ((X_val-mean_x)/std_x, y_val) \n",
    "        (X_test, y_test) = ((X_test-mean_x)/std_x, y_test)\n",
    "\n",
    "        return (X_train, y_train),(X_val, y_val),(X_test, y_test)\n",
    "\n",
    "data_path ='../dataset/iris.csv'\n",
    "X, y = data_loader(data_path)\n",
    "\n",
    "\n",
    "# X_train, X_test, y_train, y_test = train_test_split(X, y, train_size=0.8, test_size=0.2, shuffle=True)\n",
    "(X_train, y_train),(X_val, y_val),(X_test, y_test) = train_test_val_split((X.values, y.values), 0.8, 0.1, 0.1)\n",
    "(X_train, y_train),(X_val, y_val),(X_test, y_test) = data_normalisation((X_train, y_train),(X_val, y_val),(X_test, y_test))\n",
    "\n",
    "X_train.shape, y_train.shape, X_test.shape, y_test.shape, X_val.shape, y_val.shape\n"
   ]
  },
  {
   "cell_type": "markdown",
   "metadata": {
    "id": "XUrSFtAyg-Wq"
   },
   "source": [
    "Artificial Neural Network Configuration"
   ]
  },
  {
   "cell_type": "code",
   "execution_count": 3,
   "metadata": {
    "colab": {
     "base_uri": "https://localhost:8080/"
    },
    "id": "cKFgal02g6ik",
    "outputId": "4f67419f-b69c-483e-be90-cad8d5095535"
   },
   "outputs": [
    {
     "name": "stdout",
     "output_type": "stream",
     "text": [
      "WARNING:tensorflow:From /Users/anthony/opt/anaconda3/envs/tf1.3/lib/python3.7/site-packages/tensorflow/python/framework/op_def_library.py:263: colocate_with (from tensorflow.python.framework.ops) is deprecated and will be removed in a future version.\n",
      "Instructions for updating:\n",
      "Colocations handled automatically by placer.\n",
      "WARNING:tensorflow:From <ipython-input-3-b4f2811f9e57>:49: softmax_cross_entropy_with_logits (from tensorflow.python.ops.nn_ops) is deprecated and will be removed in a future version.\n",
      "Instructions for updating:\n",
      "\n",
      "Future major versions of TensorFlow will allow gradients to flow\n",
      "into the labels input on backprop by default.\n",
      "\n",
      "See `tf.nn.softmax_cross_entropy_with_logits_v2`.\n",
      "\n"
     ]
    }
   ],
   "source": [
    "#Network parameters\n",
    "n_input = 4 \n",
    "n_hidden1 = 8\n",
    "n_output = 3\n",
    "#Learning parameters \n",
    "learning_rate = 1\n",
    "number_epochs = 100\n",
    "\n",
    "#Defining the input and the output\n",
    "X_p = tf.placeholder(\"float\", [None, n_input], name='X_p') \n",
    "Y_p = tf.placeholder(\"float\", [None, n_output], name='Y_p')\n",
    "\n",
    "#Function Definition\n",
    "def add_layer(inputs, in_size, out_size, activation_function=None):\n",
    "    Weights = tf.Variable(tf.random_normal([in_size, out_size])) #in_size - rows  out_size - columns\n",
    "    biases = tf.Variable(tf.random_normal([1, out_size])) #one row\n",
    "    Wx_plus_b = tf.matmul(inputs, Weights) + biases\n",
    "    if activation_function is None:\n",
    "        outputs = Wx_plus_b\n",
    "    else:\n",
    "        outputs = activation_function(Wx_plus_b)\n",
    "    return outputs\n",
    "    \n",
    "\n",
    "# forward\n",
    "def multilayer_perceptron(input_d): \n",
    "\n",
    "    # Create Hidden Layers\n",
    "    layer_1 = add_layer(X_p, 4, 8, activation_function=tf.nn.sigmoid)\n",
    "\n",
    "    # Create Output Layer\n",
    "    # out_layer = add_layer(layer_1, 8, 3, activation_function=None)\n",
    "\n",
    "    b1 = tf.Variable(tf.random_normal([n_hidden1])) #Biases first hidden layer\n",
    "    b2 = tf.Variable(tf.random_normal([n_output]))  #Biases output layer\n",
    "    \n",
    "    w1 = tf.Variable(tf.random_normal([n_input, n_hidden1]))   #Weights connecting input layer with first hidden layer\n",
    "    w2 = tf.Variable(tf.random_normal([n_hidden1, n_output]))\n",
    "\n",
    "    layer_1 = tf.nn.leaky_relu(tf.add(tf.matmul(input_d, w1), b1),alpha=0.01)\n",
    "    out_layer = tf.add(tf.matmul(layer_1, w2),b2) \n",
    "    \n",
    "    return out_layer\n",
    "\n",
    "# create model\n",
    "neural_network = multilayer_perceptron(X_p) \n",
    "\n",
    "# define loss function\n",
    "loss_func = tf.reduce_mean(tf.nn.softmax_cross_entropy_with_logits(logits=neural_network,labels=Y_p))\n",
    "\n",
    "# define eval function\n",
    "prediction = tf.nn.softmax(neural_network)\n",
    "tf.add_to_collection('prediction', prediction) \n",
    "correct_prediction = tf.equal(tf.argmax(prediction,1),tf.argmax(Y_p,1)) \n",
    "accuracy_func = tf.reduce_mean(tf.cast(correct_prediction, tf.float32))\n",
    "tf.add_to_collection('accuracy_func', accuracy_func) \n",
    "\n",
    "# define optimizer\n",
    "optimizer = tf.train.GradientDescentOptimizer(learning_rate).minimize(loss_func)"
   ]
  },
  {
   "cell_type": "markdown",
   "metadata": {
    "id": "5ZgRShjMhDnY"
   },
   "source": [
    "Training"
   ]
  },
  {
   "cell_type": "code",
   "execution_count": 4,
   "metadata": {
    "colab": {
     "base_uri": "https://localhost:8080/",
     "height": 735
    },
    "id": "EeEgjQashBCd",
    "outputId": "46d77222-83a8-4b9b-ac15-0a6437ff7060"
   },
   "outputs": [
    {
     "name": "stdout",
     "output_type": "stream",
     "text": [
      "Epoch: 50, Training loss: 0.05192531, Validation loss: 0.109900065, \n",
      "Epoch: 100, Training loss: 0.040449765, Validation loss: 0.0922977, \n",
      "WARNING:tensorflow:Issue encountered when serializing train_loss.\n",
      "Type is unsupported, or the types of the items don't match field type in CollectionDef. Note this is a warning and probably safe to ignore.\n",
      "'numpy.float32' object has no attribute 'name'\n",
      "WARNING:tensorflow:Issue encountered when serializing val_loss.\n",
      "Type is unsupported, or the types of the items don't match field type in CollectionDef. Note this is a warning and probably safe to ignore.\n",
      "'numpy.float32' object has no attribute 'name'\n",
      "The totoal training time is: 0.14510600000000018\n"
     ]
    },
    {
     "data": {
      "image/png": "[encoded data removed]",
      "text/plain": [
       "<Figure size 432x288 with 1 Axes>"
      ]
     },
     "metadata": {
      "needs_background": "light"
     },
     "output_type": "display_data"
    },
    {
     "data": {
      "image/png": "[encoded data removed]",
      "text/plain": [
       "<Figure size 432x288 with 1 Axes>"
      ]
     },
     "metadata": {
      "needs_background": "light"
     },
     "output_type": "display_data"
    },
    {
     "name": "stdout",
     "output_type": "stream",
     "text": [
      "Accuracy: 0.93333334\n"
     ]
    }
   ],
   "source": [
    "accuracy_buffer = []\n",
    "\n",
    "train_losses = []\n",
    "val_losses = []\n",
    "select_epoch_from = 0\n",
    "epochs = []\n",
    "\n",
    "saver = tf.train.Saver(max_to_keep=1)\n",
    "\n",
    "with tf.Session() as sess: \n",
    "    # initializaing variables\n",
    "    init = tf.global_variables_initializer()\n",
    "    sess.run(init)\n",
    "    start_time = time.clock() \n",
    "    #Training epoch \n",
    "    for epoch in range(1,number_epochs+1):\n",
    "        _, train_loss = sess.run([optimizer, loss_func], feed_dict={X_p: X_train, Y_p: y_train})\n",
    "        tf.add_to_collection('train_loss', train_loss) \n",
    "\n",
    "        val_loss = loss_func.eval({X_p: X_val, Y_p: y_val})\n",
    "        tf.add_to_collection('val_loss', val_loss) \n",
    "\n",
    "        if epoch >= select_epoch_from and epoch % 5 == 0:\n",
    "            train_losses.append(train_loss)\n",
    "            val_losses.append(val_loss)\n",
    "            epochs.append(epoch)\n",
    "\n",
    "        # Display the epoch\n",
    "        if epoch % 50 == 0:\n",
    "            print(\"Epoch: %d, \"\n",
    "                  \"Training loss: %s, \"\n",
    "                  \"Validation loss: %s, \" % (epoch, train_loss, val_loss))\n",
    "    # save the model\n",
    "    saver.save(sess, '../saved_model/model_classification/model.ckpt',write_meta_graph=True)\n",
    "    end_time = time.clock()\n",
    "    print(\"The totoal training time is: \" + str(end_time-start_time))\n",
    "\n",
    "    plt.plot(epochs, train_losses, 'r', label='Training loss', linewidth=1, linestyle='-')\n",
    "    plt.plot(epochs, val_losses, 'b', label='Validation loss', linewidth=3, linestyle='-.')\n",
    "    plt.xlabel('Epoch') \n",
    "    plt.ylabel('Loss')\n",
    "    plt.title('Training and validation loss')\n",
    "    plt.legend()\n",
    "    plt.figure()\n",
    "    \n",
    "    # Test model \n",
    "    output = prediction.eval({X_p: X_test}) \n",
    "    id_pred = np.argmax(output, axis=1) + 1\n",
    "    id_label = np.argmax(np.asarray(y_test), axis=1) + 1\n",
    "\n",
    "    plt.plot(range(0,len(id_label)), id_label, 'ro',label = \"labels\", markersize=7) \n",
    "    plt.plot(range(0,len(id_label)), id_pred, 'bx',label = \"predictions\", markersize=9) \n",
    "    plt.legend(loc=\"upper right\")\n",
    "    for i in range(1,4):\n",
    "        plt.axhline(y = i, linestyle='-', color = 'k', linewidth = 1)\n",
    "    plt.yticks(range(0,5))\n",
    "    plt.title('Predictions and Labels')\n",
    "    plt.ylabel('Classes')\n",
    "    plt.xlabel('Instance')\n",
    "    plt.show()\n",
    "\n",
    "    # final accuracy\n",
    "    accuracy = sess.run(accuracy_func,feed_dict={X_p:X_test,Y_p:y_test})\n",
    "    print(\"Accuracy: \" + str(accuracy))\n",
    "  "
   ]
  }
 ],
 "metadata": {
  "colab": {
   "collapsed_sections": [],
   "name": "Classification_train_model.ipynb",
   "provenance": []
  },
  "kernelspec": {
   "display_name": "tf1.3",
   "language": "python",
   "name": "tf1.3"
  },
  "language_info": {
   "codemirror_mode": {
    "name": "ipython",
    "version": 3
   },
   "file_extension": ".py",
   "mimetype": "text/x-python",
   "name": "python",
   "nbconvert_exporter": "python",
   "pygments_lexer": "ipython3",
   "version": "3.7.9"
  }
 },
 "nbformat": 4,
 "nbformat_minor": 1
}
